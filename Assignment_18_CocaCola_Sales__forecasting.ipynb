{
  "cells": [
    {
      "cell_type": "markdown",
      "metadata": {
        "id": "view-in-github",
        "colab_type": "text"
      },
      "source": [
        "<a href=\"https://colab.research.google.com/github/SurajLahariya/DS_learning/blob/main/Assignment_18_CocaCola_Sales__forecasting.ipynb\" target=\"_parent\"><img src=\"https://colab.research.google.com/assets/colab-badge.svg\" alt=\"Open In Colab\"/></a>"
      ]
    },
    {
      "cell_type": "markdown",
      "id": "efe30413",
      "metadata": {
        "id": "efe30413"
      },
      "source": [
        "## 1. Import necessary libraries"
      ]
    },
    {
      "cell_type": "code",
      "execution_count": null,
      "id": "0a483c54",
      "metadata": {
        "id": "0a483c54"
      },
      "outputs": [],
      "source": [
        "import pandas as pd\n",
        "\n",
        "import numpy as np\n",
        "\n",
        "import matplotlib.pyplot as plt\n",
        "import seaborn as sns\n",
        "\n",
        "import warnings\n",
        "warnings.filterwarnings('ignore')\n",
        "\n",
        "import statsmodels.formula.api as smf\n",
        "\n",
        "from statsmodels.tsa.seasonal import seasonal_decompose\n",
        "\n",
        "from statsmodels.graphics.tsaplots import plot_acf, plot_pacf \n",
        "\n",
        "from statsmodels.tsa.holtwinters import SimpleExpSmoothing # SES\n",
        "from statsmodels.tsa.holtwinters import Holt # Holts Exponential Smoothing\n",
        "from statsmodels.tsa.holtwinters import ExponentialSmoothing \n",
        "\n",
        "from statsmodels.tsa.stattools import adfuller\n",
        "\n",
        "from statsmodels.tsa.arima_model import ARMA, ARIMA\n",
        "\n",
        "import itertools"
      ]
    },
    {
      "cell_type": "markdown",
      "id": "54f34540",
      "metadata": {
        "id": "54f34540"
      },
      "source": [
        "## 2. Data collection"
      ]
    },
    {
      "cell_type": "code",
      "execution_count": null,
      "id": "1e3e7667",
      "metadata": {
        "scrolled": true,
        "id": "1e3e7667",
        "outputId": "c9c93e4e-1969-48ed-bfdd-49964d2cf062"
      },
      "outputs": [
        {
          "data": {
            "text/html": [
              "<div>\n",
              "<style scoped>\n",
              "    .dataframe tbody tr th:only-of-type {\n",
              "        vertical-align: middle;\n",
              "    }\n",
              "\n",
              "    .dataframe tbody tr th {\n",
              "        vertical-align: top;\n",
              "    }\n",
              "\n",
              "    .dataframe thead th {\n",
              "        text-align: right;\n",
              "    }\n",
              "</style>\n",
              "<table border=\"1\" class=\"dataframe\">\n",
              "  <thead>\n",
              "    <tr style=\"text-align: right;\">\n",
              "      <th></th>\n",
              "      <th>Quarter</th>\n",
              "      <th>Sales</th>\n",
              "    </tr>\n",
              "  </thead>\n",
              "  <tbody>\n",
              "    <tr>\n",
              "      <th>0</th>\n",
              "      <td>Q1_86</td>\n",
              "      <td>1734.827000</td>\n",
              "    </tr>\n",
              "    <tr>\n",
              "      <th>1</th>\n",
              "      <td>Q2_86</td>\n",
              "      <td>2244.960999</td>\n",
              "    </tr>\n",
              "    <tr>\n",
              "      <th>2</th>\n",
              "      <td>Q3_86</td>\n",
              "      <td>2533.804993</td>\n",
              "    </tr>\n",
              "    <tr>\n",
              "      <th>3</th>\n",
              "      <td>Q4_86</td>\n",
              "      <td>2154.962997</td>\n",
              "    </tr>\n",
              "    <tr>\n",
              "      <th>4</th>\n",
              "      <td>Q1_87</td>\n",
              "      <td>1547.818996</td>\n",
              "    </tr>\n",
              "  </tbody>\n",
              "</table>\n",
              "</div>"
            ],
            "text/plain": [
              "  Quarter        Sales\n",
              "0   Q1_86  1734.827000\n",
              "1   Q2_86  2244.960999\n",
              "2   Q3_86  2533.804993\n",
              "3   Q4_86  2154.962997\n",
              "4   Q1_87  1547.818996"
            ]
          },
          "execution_count": 3,
          "metadata": {},
          "output_type": "execute_result"
        }
      ],
      "source": [
        "df = pd.read_excel(r'C:\\Users\\sawaled\\Desktop\\Personal\\data\\Assignement_18_Forecasting\\CocaCola_Sales_Rawdata.xlsx',)\n",
        "df.head()"
      ]
    },
    {
      "cell_type": "code",
      "execution_count": null,
      "id": "c3ef9ef3",
      "metadata": {
        "id": "c3ef9ef3",
        "outputId": "755a8505-76dc-4f19-e662-ba1c8f995655"
      },
      "outputs": [
        {
          "data": {
            "text/html": [
              "<div>\n",
              "<style scoped>\n",
              "    .dataframe tbody tr th:only-of-type {\n",
              "        vertical-align: middle;\n",
              "    }\n",
              "\n",
              "    .dataframe tbody tr th {\n",
              "        vertical-align: top;\n",
              "    }\n",
              "\n",
              "    .dataframe thead th {\n",
              "        text-align: right;\n",
              "    }\n",
              "</style>\n",
              "<table border=\"1\" class=\"dataframe\">\n",
              "  <thead>\n",
              "    <tr style=\"text-align: right;\">\n",
              "      <th></th>\n",
              "      <th>Quarter</th>\n",
              "      <th>Sales</th>\n",
              "      <th>Q</th>\n",
              "      <th>year</th>\n",
              "    </tr>\n",
              "  </thead>\n",
              "  <tbody>\n",
              "    <tr>\n",
              "      <th>0</th>\n",
              "      <td>Q1_86</td>\n",
              "      <td>1734.827000</td>\n",
              "      <td>Q1</td>\n",
              "      <td>86</td>\n",
              "    </tr>\n",
              "    <tr>\n",
              "      <th>1</th>\n",
              "      <td>Q2_86</td>\n",
              "      <td>2244.960999</td>\n",
              "      <td>Q2</td>\n",
              "      <td>86</td>\n",
              "    </tr>\n",
              "    <tr>\n",
              "      <th>2</th>\n",
              "      <td>Q3_86</td>\n",
              "      <td>2533.804993</td>\n",
              "      <td>Q3</td>\n",
              "      <td>86</td>\n",
              "    </tr>\n",
              "    <tr>\n",
              "      <th>3</th>\n",
              "      <td>Q4_86</td>\n",
              "      <td>2154.962997</td>\n",
              "      <td>Q4</td>\n",
              "      <td>86</td>\n",
              "    </tr>\n",
              "    <tr>\n",
              "      <th>4</th>\n",
              "      <td>Q1_87</td>\n",
              "      <td>1547.818996</td>\n",
              "      <td>Q1</td>\n",
              "      <td>87</td>\n",
              "    </tr>\n",
              "  </tbody>\n",
              "</table>\n",
              "</div>"
            ],
            "text/plain": [
              "  Quarter        Sales   Q  year\n",
              "0   Q1_86  1734.827000  Q1    86\n",
              "1   Q2_86  2244.960999  Q2    86\n",
              "2   Q3_86  2533.804993  Q3    86\n",
              "3   Q4_86  2154.962997  Q4    86\n",
              "4   Q1_87  1547.818996  Q1    87"
            ]
          },
          "execution_count": 4,
          "metadata": {},
          "output_type": "execute_result"
        }
      ],
      "source": [
        "df['Q'] = 0\n",
        "df['year'] = 0\n",
        "for i in range(42):\n",
        "    p=df['Quarter'][i]\n",
        "    df['Q'][i]=p[0:2]\n",
        "    df['year'][i]=p[3:]\n",
        "    \n",
        "df.head()"
      ]
    },
    {
      "cell_type": "markdown",
      "id": "46f011c7",
      "metadata": {
        "id": "46f011c7"
      },
      "source": [
        "#### ========================================================================================================"
      ]
    },
    {
      "cell_type": "markdown",
      "id": "9533a938",
      "metadata": {
        "id": "9533a938"
      },
      "source": [
        "## 3. Data Understanding, Visulalization and Preaparation "
      ]
    },
    {
      "cell_type": "code",
      "execution_count": null,
      "id": "3d6abbf7",
      "metadata": {
        "scrolled": false,
        "id": "3d6abbf7",
        "outputId": "eb7d3a65-6cf1-46b0-e7bd-61e39b5b01c9"
      },
      "outputs": [
        {
          "data": {
            "image/png": "[encoded data removed]",
            "text/plain": [
              "<Figure size 864x432 with 1 Axes>"
            ]
          },
          "metadata": {
            "needs_background": "light"
          },
          "output_type": "display_data"
        }
      ],
      "source": [
        "plt.figure(figsize=(12,6))\n",
        "plt.plot(df.Sales, color='green')\n",
        "plt.show()"
      ]
    },
    {
      "cell_type": "code",
      "execution_count": null,
      "id": "c425921b",
      "metadata": {
        "scrolled": true,
        "id": "c425921b",
        "outputId": "2dfd2c69-fd60-4933-d53e-71e9cde5813b"
      },
      "outputs": [
        {
          "data": {
            "image/png": "[encoded data removed]",
            "text/plain": [
              "<Figure size 864x432 with 1 Axes>"
            ]
          },
          "metadata": {
            "needs_background": "light"
          },
          "output_type": "display_data"
        }
      ],
      "source": [
        "plt.figure(figsize=(12,6))\n",
        "sns.lineplot(x='year', y='Sales', data=df)\n",
        "plt.show()"
      ]
    },
    {
      "cell_type": "code",
      "execution_count": null,
      "id": "71ec7e60",
      "metadata": {
        "scrolled": false,
        "id": "71ec7e60",
        "outputId": "da190ae2-07f3-43cf-b0fe-51806b4fe0ae"
      },
      "outputs": [
        {
          "data": {
            "image/png": "[encoded data removed]",
            "text/plain": [
              "<Figure size 864x432 with 1 Axes>"
            ]
          },
          "metadata": {
            "needs_background": "light"
          },
          "output_type": "display_data"
        }
      ],
      "source": [
        "plt.figure(figsize=(12,6))\n",
        "sns.boxplot(x= 'year', y='Sales', data=df)\n",
        "plt.show()"
      ]
    },
    {
      "cell_type": "markdown",
      "id": "f34f5a25",
      "metadata": {
        "id": "f34f5a25"
      },
      "source": [
        "## 3.1 ACF and PACF plot"
      ]
    },
    {
      "cell_type": "code",
      "execution_count": null,
      "id": "0cbc6e13",
      "metadata": {
        "scrolled": false,
        "id": "0cbc6e13",
        "outputId": "556adae9-eddf-405a-bfb5-20306ffc1d8e"
      },
      "outputs": [
        {
          "data": {
            "image/png": "[encoded data removed]",
            "text/plain": [
              "<Figure size 432x288 with 1 Axes>"
            ]
          },
          "metadata": {
            "needs_background": "light"
          },
          "output_type": "display_data"
        },
        {
          "data": {
            "image/png": "[encoded data removed]",
            "text/plain": [
              "<Figure size 432x288 with 1 Axes>"
            ]
          },
          "metadata": {
            "needs_background": "light"
          },
          "output_type": "display_data"
        }
      ],
      "source": [
        "plot_acf(x= df['Sales'], lags=12)\n",
        "plot_pacf(x= df['Sales'], lags=12)\n",
        "plt.show()"
      ]
    },
    {
      "cell_type": "markdown",
      "id": "971e8f3f",
      "metadata": {
        "id": "971e8f3f"
      },
      "source": [
        "## 4. Model building"
      ]
    },
    {
      "cell_type": "code",
      "execution_count": null,
      "id": "56f695d3",
      "metadata": {
        "id": "56f695d3",
        "outputId": "0808d644-a9b7-4dcf-e771-aac8ee92a632"
      },
      "outputs": [
        {
          "data": {
            "text/plain": [
              "(42, 4)"
            ]
          },
          "execution_count": 9,
          "metadata": {},
          "output_type": "execute_result"
        }
      ],
      "source": [
        "df.shape"
      ]
    },
    {
      "cell_type": "code",
      "execution_count": null,
      "id": "6a917e5b",
      "metadata": {
        "id": "6a917e5b"
      },
      "outputs": [],
      "source": []
    },
    {
      "cell_type": "code",
      "execution_count": null,
      "id": "207c0e73",
      "metadata": {
        "id": "207c0e73"
      },
      "outputs": [],
      "source": [
        "train = df.head(32)\n",
        "test  = df.tail(10)"
      ]
    },
    {
      "cell_type": "code",
      "execution_count": null,
      "id": "9c76d25f",
      "metadata": {
        "id": "9c76d25f",
        "outputId": "7750a409-2a27-4709-cf3b-23b9b49fabe0"
      },
      "outputs": [
        {
          "data": {
            "text/html": [
              "<div>\n",
              "<style scoped>\n",
              "    .dataframe tbody tr th:only-of-type {\n",
              "        vertical-align: middle;\n",
              "    }\n",
              "\n",
              "    .dataframe tbody tr th {\n",
              "        vertical-align: top;\n",
              "    }\n",
              "\n",
              "    .dataframe thead th {\n",
              "        text-align: right;\n",
              "    }\n",
              "</style>\n",
              "<table border=\"1\" class=\"dataframe\">\n",
              "  <thead>\n",
              "    <tr style=\"text-align: right;\">\n",
              "      <th></th>\n",
              "      <th>Quarter</th>\n",
              "      <th>Sales</th>\n",
              "      <th>Q</th>\n",
              "      <th>year</th>\n",
              "    </tr>\n",
              "  </thead>\n",
              "  <tbody>\n",
              "    <tr>\n",
              "      <th>32</th>\n",
              "      <td>Q1_94</td>\n",
              "      <td>3352.0</td>\n",
              "      <td>Q1</td>\n",
              "      <td>94</td>\n",
              "    </tr>\n",
              "    <tr>\n",
              "      <th>33</th>\n",
              "      <td>Q2_94</td>\n",
              "      <td>4342.0</td>\n",
              "      <td>Q2</td>\n",
              "      <td>94</td>\n",
              "    </tr>\n",
              "    <tr>\n",
              "      <th>34</th>\n",
              "      <td>Q3_94</td>\n",
              "      <td>4461.0</td>\n",
              "      <td>Q3</td>\n",
              "      <td>94</td>\n",
              "    </tr>\n",
              "    <tr>\n",
              "      <th>35</th>\n",
              "      <td>Q4_94</td>\n",
              "      <td>4017.0</td>\n",
              "      <td>Q4</td>\n",
              "      <td>94</td>\n",
              "    </tr>\n",
              "    <tr>\n",
              "      <th>36</th>\n",
              "      <td>Q1_95</td>\n",
              "      <td>3854.0</td>\n",
              "      <td>Q1</td>\n",
              "      <td>95</td>\n",
              "    </tr>\n",
              "    <tr>\n",
              "      <th>37</th>\n",
              "      <td>Q2_95</td>\n",
              "      <td>4936.0</td>\n",
              "      <td>Q2</td>\n",
              "      <td>95</td>\n",
              "    </tr>\n",
              "    <tr>\n",
              "      <th>38</th>\n",
              "      <td>Q3_95</td>\n",
              "      <td>4895.0</td>\n",
              "      <td>Q3</td>\n",
              "      <td>95</td>\n",
              "    </tr>\n",
              "    <tr>\n",
              "      <th>39</th>\n",
              "      <td>Q4_95</td>\n",
              "      <td>4333.0</td>\n",
              "      <td>Q4</td>\n",
              "      <td>95</td>\n",
              "    </tr>\n",
              "    <tr>\n",
              "      <th>40</th>\n",
              "      <td>Q1_96</td>\n",
              "      <td>4194.0</td>\n",
              "      <td>Q1</td>\n",
              "      <td>96</td>\n",
              "    </tr>\n",
              "    <tr>\n",
              "      <th>41</th>\n",
              "      <td>Q2_96</td>\n",
              "      <td>5253.0</td>\n",
              "      <td>Q2</td>\n",
              "      <td>96</td>\n",
              "    </tr>\n",
              "  </tbody>\n",
              "</table>\n",
              "</div>"
            ],
            "text/plain": [
              "   Quarter   Sales   Q  year\n",
              "32   Q1_94  3352.0  Q1    94\n",
              "33   Q2_94  4342.0  Q2    94\n",
              "34   Q3_94  4461.0  Q3    94\n",
              "35   Q4_94  4017.0  Q4    94\n",
              "36   Q1_95  3854.0  Q1    95\n",
              "37   Q2_95  4936.0  Q2    95\n",
              "38   Q3_95  4895.0  Q3    95\n",
              "39   Q4_95  4333.0  Q4    95\n",
              "40   Q1_96  4194.0  Q1    96\n",
              "41   Q2_96  5253.0  Q2    96"
            ]
          },
          "execution_count": 41,
          "metadata": {},
          "output_type": "execute_result"
        }
      ],
      "source": [
        "test"
      ]
    },
    {
      "cell_type": "markdown",
      "id": "3d17bdcb",
      "metadata": {
        "id": "3d17bdcb"
      },
      "source": [
        "## 5. ARIMA model"
      ]
    },
    {
      "cell_type": "code",
      "execution_count": null,
      "id": "2540a6f2",
      "metadata": {
        "id": "2540a6f2"
      },
      "outputs": [],
      "source": [
        "# Performing ADF test to test Stationarity of Data"
      ]
    },
    {
      "cell_type": "code",
      "execution_count": null,
      "id": "eaae2557",
      "metadata": {
        "id": "eaae2557",
        "outputId": "802406dd-e276-42bd-8aee-37a5612f2568"
      },
      "outputs": [
        {
          "name": "stdout",
          "output_type": "stream",
          "text": [
            "ADF Statistic: 1.309421\n",
            "p-value: 0.996661\n"
          ]
        }
      ],
      "source": [
        "result = adfuller(df.Sales.dropna())\n",
        "print('ADF Statistic: %f' % result[0])\n",
        "print('p-value: %f' % result[1])"
      ]
    },
    {
      "cell_type": "code",
      "execution_count": null,
      "id": "58f762ed",
      "metadata": {
        "id": "58f762ed"
      },
      "outputs": [],
      "source": [
        "# Since P-value is greater than the significance level, the data is not Stationery.\n",
        "# let’s difference the series and see how the autocorrelation plot looks like."
      ]
    },
    {
      "cell_type": "code",
      "execution_count": null,
      "id": "ec5babf7",
      "metadata": {
        "id": "ec5babf7",
        "outputId": "dc6253a9-de47-42a6-862f-ac262cbcccd2"
      },
      "outputs": [
        {
          "data": {
            "image/png": "[encoded data removed]",
            "text/plain": [
              "<Figure size 864x432 with 1 Axes>"
            ]
          },
          "metadata": {
            "needs_background": "light"
          },
          "output_type": "display_data"
        }
      ],
      "source": [
        "# Checking whether the input data is stationry or not\n",
        "\n",
        "df_roll = df['Sales'].rolling(window=4).mean()\n",
        "df_std = df['Sales'].rolling(window=4).std()\n",
        "\n",
        "plt.figure(figsize=(12,6))\n",
        "\n",
        "input_data = plt.plot(df['Sales'],label= 'Original Data', color='g')\n",
        "rolling = plt.plot(df_roll,label= 'Rolling Data', color='b')\n",
        "std = plt.plot(df_std,label= 'Standard Data', color='r')\n",
        "plt.legend(loc='best')\n",
        "plt.show()"
      ]
    },
    {
      "cell_type": "code",
      "execution_count": null,
      "id": "7c69ad54",
      "metadata": {
        "scrolled": true,
        "id": "7c69ad54",
        "outputId": "a7377ad2-90b7-4ef4-f3a0-f01900187e00"
      },
      "outputs": [
        {
          "data": {
            "image/png": "[encoded data removed]",
            "text/plain": [
              "<Figure size 864x432 with 1 Axes>"
            ]
          },
          "metadata": {
            "needs_background": "light"
          },
          "output_type": "display_data"
        }
      ],
      "source": [
        "df_sales_lagged = df['Sales'].diff()\n",
        "df_roll_lagged = df_sales_lagged.rolling(window=4).mean()\n",
        "df_std_lagged = df_sales_lagged.rolling(window=4).std()\n",
        "\n",
        "plt.figure(figsize=(12,6))\n",
        "\n",
        "input_data = plt.plot(df_sales_lagged,label= 'Original Data', color='g')\n",
        "rolling = plt.plot(df_roll_lagged,label= 'Rolling Data', color='b')\n",
        "std = plt.plot(df_std_lagged,label= 'Standard Data', color='r')\n",
        "plt.legend(loc='best')\n",
        "plt.show()"
      ]
    },
    {
      "cell_type": "code",
      "execution_count": null,
      "id": "571cd059",
      "metadata": {
        "id": "571cd059",
        "outputId": "6146ab6d-8f7a-48af-ef18-e5eaf91bedeb"
      },
      "outputs": [
        {
          "name": "stdout",
          "output_type": "stream",
          "text": [
            "ADF Statistic: -2.501537\n",
            "p-value: 0.115101\n"
          ]
        }
      ],
      "source": [
        "result = adfuller(df.Sales.diff().dropna())\n",
        "print('ADF Statistic: %f' % result[0])\n",
        "print('p-value: %f' % result[1])"
      ]
    },
    {
      "cell_type": "code",
      "execution_count": null,
      "id": "98c7ac8b",
      "metadata": {
        "id": "98c7ac8b",
        "outputId": "a744a8f8-8209-427d-ca33-024d39da3ce8"
      },
      "outputs": [
        {
          "data": {
            "image/png": "[encoded data removed]",
            "text/plain": [
              "<Figure size 432x288 with 1 Axes>"
            ]
          },
          "metadata": {
            "needs_background": "light"
          },
          "output_type": "display_data"
        },
        {
          "data": {
            "image/png": "[encoded data removed]",
            "text/plain": [
              "<Figure size 432x288 with 1 Axes>"
            ]
          },
          "metadata": {
            "needs_background": "light"
          },
          "output_type": "display_data"
        }
      ],
      "source": [
        "# Plotting ACF and PACF for lagged values\n",
        "\n",
        "plot_acf(df['Sales'].diff().dropna() , lags=12)\n",
        "plot_pacf(df['Sales'].diff().dropna(), lags=12)\n",
        "plt.show()"
      ]
    },
    {
      "cell_type": "code",
      "execution_count": null,
      "id": "8ec1a31c",
      "metadata": {
        "id": "8ec1a31c",
        "outputId": "a8159918-e8f9-4890-a5f0-39ced47456ae"
      },
      "outputs": [
        {
          "name": "stdout",
          "output_type": "stream",
          "text": [
            "ADF Statistic: -27.632625\n",
            "p-value: 0.000000\n"
          ]
        }
      ],
      "source": [
        "result = adfuller(df.Sales.diff().diff().dropna())\n",
        "print('ADF Statistic: %f' % result[0])\n",
        "print('p-value: %f' % result[1])"
      ]
    },
    {
      "cell_type": "code",
      "execution_count": null,
      "id": "15b6dee3",
      "metadata": {
        "id": "15b6dee3",
        "outputId": "527f6f46-4bfe-472d-eaba-561297455366"
      },
      "outputs": [
        {
          "data": {
            "image/png": "[encoded data removed]",
            "text/plain": [
              "<Figure size 432x288 with 1 Axes>"
            ]
          },
          "metadata": {
            "needs_background": "light"
          },
          "output_type": "display_data"
        },
        {
          "data": {
            "image/png": "[encoded data removed]",
            "text/plain": [
              "<Figure size 432x288 with 1 Axes>"
            ]
          },
          "metadata": {
            "needs_background": "light"
          },
          "output_type": "display_data"
        }
      ],
      "source": [
        "plot_acf(df['Sales'].diff().diff().dropna() , lags=12)\n",
        "plot_pacf(df['Sales'].diff().diff().dropna(), lags=12)\n",
        "plt.show()"
      ]
    },
    {
      "cell_type": "code",
      "execution_count": null,
      "id": "6a9db9e5",
      "metadata": {
        "id": "6a9db9e5"
      },
      "outputs": [],
      "source": [
        "p = range(0,10)\n",
        "d = range(0,10)\n",
        "q = range(0,10)\n",
        "\n",
        "pdq = list(itertools.product(p,d,q))"
      ]
    },
    {
      "cell_type": "code",
      "execution_count": null,
      "id": "36b716bc",
      "metadata": {
        "id": "36b716bc",
        "outputId": "995f5818-6f20-4a9e-a6ff-a19501bd90cc"
      },
      "outputs": [
        {
          "data": {
            "text/plain": [
              "[(0, 0, 0),\n",
              " (0, 0, 1),\n",
              " (0, 0, 2),\n",
              " (0, 0, 3),\n",
              " (0, 0, 4),\n",
              " (0, 0, 5),\n",
              " (0, 0, 6),\n",
              " (0, 0, 7),\n",
              " (0, 0, 8),\n",
              " (0, 0, 9),\n",
              " (0, 1, 0),\n",
              " (0, 1, 1),\n",
              " (0, 1, 2),\n",
              " (0, 1, 3),\n",
              " (0, 1, 4),\n",
              " (0, 1, 5),\n",
              " (0, 1, 6),\n",
              " (0, 1, 7),\n",
              " (0, 1, 8),\n",
              " (0, 1, 9),\n",
              " (0, 2, 0),\n",
              " (0, 2, 1),\n",
              " (0, 2, 2),\n",
              " (0, 2, 3),\n",
              " (0, 2, 4),\n",
              " (0, 2, 5),\n",
              " (0, 2, 6),\n",
              " (0, 2, 7),\n",
              " (0, 2, 8),\n",
              " (0, 2, 9),\n",
              " (0, 3, 0),\n",
              " (0, 3, 1),\n",
              " (0, 3, 2),\n",
              " (0, 3, 3),\n",
              " (0, 3, 4),\n",
              " (0, 3, 5),\n",
              " (0, 3, 6),\n",
              " (0, 3, 7),\n",
              " (0, 3, 8),\n",
              " (0, 3, 9),\n",
              " (0, 4, 0),\n",
              " (0, 4, 1),\n",
              " (0, 4, 2),\n",
              " (0, 4, 3),\n",
              " (0, 4, 4),\n",
              " (0, 4, 5),\n",
              " (0, 4, 6),\n",
              " (0, 4, 7),\n",
              " (0, 4, 8),\n",
              " (0, 4, 9),\n",
              " (0, 5, 0),\n",
              " (0, 5, 1),\n",
              " (0, 5, 2),\n",
              " (0, 5, 3),\n",
              " (0, 5, 4),\n",
              " (0, 5, 5),\n",
              " (0, 5, 6),\n",
              " (0, 5, 7),\n",
              " (0, 5, 8),\n",
              " (0, 5, 9),\n",
              " (0, 6, 0),\n",
              " (0, 6, 1),\n",
              " (0, 6, 2),\n",
              " (0, 6, 3),\n",
              " (0, 6, 4),\n",
              " (0, 6, 5),\n",
              " (0, 6, 6),\n",
              " (0, 6, 7),\n",
              " (0, 6, 8),\n",
              " (0, 6, 9),\n",
              " (0, 7, 0),\n",
              " (0, 7, 1),\n",
              " (0, 7, 2),\n",
              " (0, 7, 3),\n",
              " (0, 7, 4),\n",
              " (0, 7, 5),\n",
              " (0, 7, 6),\n",
              " (0, 7, 7),\n",
              " (0, 7, 8),\n",
              " (0, 7, 9),\n",
              " (0, 8, 0),\n",
              " (0, 8, 1),\n",
              " (0, 8, 2),\n",
              " (0, 8, 3),\n",
              " (0, 8, 4),\n",
              " (0, 8, 5),\n",
              " (0, 8, 6),\n",
              " (0, 8, 7),\n",
              " (0, 8, 8),\n",
              " (0, 8, 9),\n",
              " (0, 9, 0),\n",
              " (0, 9, 1),\n",
              " (0, 9, 2),\n",
              " (0, 9, 3),\n",
              " (0, 9, 4),\n",
              " (0, 9, 5),\n",
              " (0, 9, 6),\n",
              " (0, 9, 7),\n",
              " (0, 9, 8),\n",
              " (0, 9, 9),\n",
              " (1, 0, 0),\n",
              " (1, 0, 1),\n",
              " (1, 0, 2),\n",
              " (1, 0, 3),\n",
              " (1, 0, 4),\n",
              " (1, 0, 5),\n",
              " (1, 0, 6),\n",
              " (1, 0, 7),\n",
              " (1, 0, 8),\n",
              " (1, 0, 9),\n",
              " (1, 1, 0),\n",
              " (1, 1, 1),\n",
              " (1, 1, 2),\n",
              " (1, 1, 3),\n",
              " (1, 1, 4),\n",
              " (1, 1, 5),\n",
              " (1, 1, 6),\n",
              " (1, 1, 7),\n",
              " (1, 1, 8),\n",
              " (1, 1, 9),\n",
              " (1, 2, 0),\n",
              " (1, 2, 1),\n",
              " (1, 2, 2),\n",
              " (1, 2, 3),\n",
              " (1, 2, 4),\n",
              " (1, 2, 5),\n",
              " (1, 2, 6),\n",
              " (1, 2, 7),\n",
              " (1, 2, 8),\n",
              " (1, 2, 9),\n",
              " (1, 3, 0),\n",
              " (1, 3, 1),\n",
              " (1, 3, 2),\n",
              " (1, 3, 3),\n",
              " (1, 3, 4),\n",
              " (1, 3, 5),\n",
              " (1, 3, 6),\n",
              " (1, 3, 7),\n",
              " (1, 3, 8),\n",
              " (1, 3, 9),\n",
              " (1, 4, 0),\n",
              " (1, 4, 1),\n",
              " (1, 4, 2),\n",
              " (1, 4, 3),\n",
              " (1, 4, 4),\n",
              " (1, 4, 5),\n",
              " (1, 4, 6),\n",
              " (1, 4, 7),\n",
              " (1, 4, 8),\n",
              " (1, 4, 9),\n",
              " (1, 5, 0),\n",
              " (1, 5, 1),\n",
              " (1, 5, 2),\n",
              " (1, 5, 3),\n",
              " (1, 5, 4),\n",
              " (1, 5, 5),\n",
              " (1, 5, 6),\n",
              " (1, 5, 7),\n",
              " (1, 5, 8),\n",
              " (1, 5, 9),\n",
              " (1, 6, 0),\n",
              " (1, 6, 1),\n",
              " (1, 6, 2),\n",
              " (1, 6, 3),\n",
              " (1, 6, 4),\n",
              " (1, 6, 5),\n",
              " (1, 6, 6),\n",
              " (1, 6, 7),\n",
              " (1, 6, 8),\n",
              " (1, 6, 9),\n",
              " (1, 7, 0),\n",
              " (1, 7, 1),\n",
              " (1, 7, 2),\n",
              " (1, 7, 3),\n",
              " (1, 7, 4),\n",
              " (1, 7, 5),\n",
              " (1, 7, 6),\n",
              " (1, 7, 7),\n",
              " (1, 7, 8),\n",
              " (1, 7, 9),\n",
              " (1, 8, 0),\n",
              " (1, 8, 1),\n",
              " (1, 8, 2),\n",
              " (1, 8, 3),\n",
              " (1, 8, 4),\n",
              " (1, 8, 5),\n",
              " (1, 8, 6),\n",
              " (1, 8, 7),\n",
              " (1, 8, 8),\n",
              " (1, 8, 9),\n",
              " (1, 9, 0),\n",
              " (1, 9, 1),\n",
              " (1, 9, 2),\n",
              " (1, 9, 3),\n",
              " (1, 9, 4),\n",
              " (1, 9, 5),\n",
              " (1, 9, 6),\n",
              " (1, 9, 7),\n",
              " (1, 9, 8),\n",
              " (1, 9, 9),\n",
              " (2, 0, 0),\n",
              " (2, 0, 1),\n",
              " (2, 0, 2),\n",
              " (2, 0, 3),\n",
              " (2, 0, 4),\n",
              " (2, 0, 5),\n",
              " (2, 0, 6),\n",
              " (2, 0, 7),\n",
              " (2, 0, 8),\n",
              " (2, 0, 9),\n",
              " (2, 1, 0),\n",
              " (2, 1, 1),\n",
              " (2, 1, 2),\n",
              " (2, 1, 3),\n",
              " (2, 1, 4),\n",
              " (2, 1, 5),\n",
              " (2, 1, 6),\n",
              " (2, 1, 7),\n",
              " (2, 1, 8),\n",
              " (2, 1, 9),\n",
              " (2, 2, 0),\n",
              " (2, 2, 1),\n",
              " (2, 2, 2),\n",
              " (2, 2, 3),\n",
              " (2, 2, 4),\n",
              " (2, 2, 5),\n",
              " (2, 2, 6),\n",
              " (2, 2, 7),\n",
              " (2, 2, 8),\n",
              " (2, 2, 9),\n",
              " (2, 3, 0),\n",
              " (2, 3, 1),\n",
              " (2, 3, 2),\n",
              " (2, 3, 3),\n",
              " (2, 3, 4),\n",
              " (2, 3, 5),\n",
              " (2, 3, 6),\n",
              " (2, 3, 7),\n",
              " (2, 3, 8),\n",
              " (2, 3, 9),\n",
              " (2, 4, 0),\n",
              " (2, 4, 1),\n",
              " (2, 4, 2),\n",
              " (2, 4, 3),\n",
              " (2, 4, 4),\n",
              " (2, 4, 5),\n",
              " (2, 4, 6),\n",
              " (2, 4, 7),\n",
              " (2, 4, 8),\n",
              " (2, 4, 9),\n",
              " (2, 5, 0),\n",
              " (2, 5, 1),\n",
              " (2, 5, 2),\n",
              " (2, 5, 3),\n",
              " (2, 5, 4),\n",
              " (2, 5, 5),\n",
              " (2, 5, 6),\n",
              " (2, 5, 7),\n",
              " (2, 5, 8),\n",
              " (2, 5, 9),\n",
              " (2, 6, 0),\n",
              " (2, 6, 1),\n",
              " (2, 6, 2),\n",
              " (2, 6, 3),\n",
              " (2, 6, 4),\n",
              " (2, 6, 5),\n",
              " (2, 6, 6),\n",
              " (2, 6, 7),\n",
              " (2, 6, 8),\n",
              " (2, 6, 9),\n",
              " (2, 7, 0),\n",
              " (2, 7, 1),\n",
              " (2, 7, 2),\n",
              " (2, 7, 3),\n",
              " (2, 7, 4),\n",
              " (2, 7, 5),\n",
              " (2, 7, 6),\n",
              " (2, 7, 7),\n",
              " (2, 7, 8),\n",
              " (2, 7, 9),\n",
              " (2, 8, 0),\n",
              " (2, 8, 1),\n",
              " (2, 8, 2),\n",
              " (2, 8, 3),\n",
              " (2, 8, 4),\n",
              " (2, 8, 5),\n",
              " (2, 8, 6),\n",
              " (2, 8, 7),\n",
              " (2, 8, 8),\n",
              " (2, 8, 9),\n",
              " (2, 9, 0),\n",
              " (2, 9, 1),\n",
              " (2, 9, 2),\n",
              " (2, 9, 3),\n",
              " (2, 9, 4),\n",
              " (2, 9, 5),\n",
              " (2, 9, 6),\n",
              " (2, 9, 7),\n",
              " (2, 9, 8),\n",
              " (2, 9, 9),\n",
              " (3, 0, 0),\n",
              " (3, 0, 1),\n",
              " (3, 0, 2),\n",
              " (3, 0, 3),\n",
              " (3, 0, 4),\n",
              " (3, 0, 5),\n",
              " (3, 0, 6),\n",
              " (3, 0, 7),\n",
              " (3, 0, 8),\n",
              " (3, 0, 9),\n",
              " (3, 1, 0),\n",
              " (3, 1, 1),\n",
              " (3, 1, 2),\n",
              " (3, 1, 3),\n",
              " (3, 1, 4),\n",
              " (3, 1, 5),\n",
              " (3, 1, 6),\n",
              " (3, 1, 7),\n",
              " (3, 1, 8),\n",
              " (3, 1, 9),\n",
              " (3, 2, 0),\n",
              " (3, 2, 1),\n",
              " (3, 2, 2),\n",
              " (3, 2, 3),\n",
              " (3, 2, 4),\n",
              " (3, 2, 5),\n",
              " (3, 2, 6),\n",
              " (3, 2, 7),\n",
              " (3, 2, 8),\n",
              " (3, 2, 9),\n",
              " (3, 3, 0),\n",
              " (3, 3, 1),\n",
              " (3, 3, 2),\n",
              " (3, 3, 3),\n",
              " (3, 3, 4),\n",
              " (3, 3, 5),\n",
              " (3, 3, 6),\n",
              " (3, 3, 7),\n",
              " (3, 3, 8),\n",
              " (3, 3, 9),\n",
              " (3, 4, 0),\n",
              " (3, 4, 1),\n",
              " (3, 4, 2),\n",
              " (3, 4, 3),\n",
              " (3, 4, 4),\n",
              " (3, 4, 5),\n",
              " (3, 4, 6),\n",
              " (3, 4, 7),\n",
              " (3, 4, 8),\n",
              " (3, 4, 9),\n",
              " (3, 5, 0),\n",
              " (3, 5, 1),\n",
              " (3, 5, 2),\n",
              " (3, 5, 3),\n",
              " (3, 5, 4),\n",
              " (3, 5, 5),\n",
              " (3, 5, 6),\n",
              " (3, 5, 7),\n",
              " (3, 5, 8),\n",
              " (3, 5, 9),\n",
              " (3, 6, 0),\n",
              " (3, 6, 1),\n",
              " (3, 6, 2),\n",
              " (3, 6, 3),\n",
              " (3, 6, 4),\n",
              " (3, 6, 5),\n",
              " (3, 6, 6),\n",
              " (3, 6, 7),\n",
              " (3, 6, 8),\n",
              " (3, 6, 9),\n",
              " (3, 7, 0),\n",
              " (3, 7, 1),\n",
              " (3, 7, 2),\n",
              " (3, 7, 3),\n",
              " (3, 7, 4),\n",
              " (3, 7, 5),\n",
              " (3, 7, 6),\n",
              " (3, 7, 7),\n",
              " (3, 7, 8),\n",
              " (3, 7, 9),\n",
              " (3, 8, 0),\n",
              " (3, 8, 1),\n",
              " (3, 8, 2),\n",
              " (3, 8, 3),\n",
              " (3, 8, 4),\n",
              " (3, 8, 5),\n",
              " (3, 8, 6),\n",
              " (3, 8, 7),\n",
              " (3, 8, 8),\n",
              " (3, 8, 9),\n",
              " (3, 9, 0),\n",
              " (3, 9, 1),\n",
              " (3, 9, 2),\n",
              " (3, 9, 3),\n",
              " (3, 9, 4),\n",
              " (3, 9, 5),\n",
              " (3, 9, 6),\n",
              " (3, 9, 7),\n",
              " (3, 9, 8),\n",
              " (3, 9, 9),\n",
              " (4, 0, 0),\n",
              " (4, 0, 1),\n",
              " (4, 0, 2),\n",
              " (4, 0, 3),\n",
              " (4, 0, 4),\n",
              " (4, 0, 5),\n",
              " (4, 0, 6),\n",
              " (4, 0, 7),\n",
              " (4, 0, 8),\n",
              " (4, 0, 9),\n",
              " (4, 1, 0),\n",
              " (4, 1, 1),\n",
              " (4, 1, 2),\n",
              " (4, 1, 3),\n",
              " (4, 1, 4),\n",
              " (4, 1, 5),\n",
              " (4, 1, 6),\n",
              " (4, 1, 7),\n",
              " (4, 1, 8),\n",
              " (4, 1, 9),\n",
              " (4, 2, 0),\n",
              " (4, 2, 1),\n",
              " (4, 2, 2),\n",
              " (4, 2, 3),\n",
              " (4, 2, 4),\n",
              " (4, 2, 5),\n",
              " (4, 2, 6),\n",
              " (4, 2, 7),\n",
              " (4, 2, 8),\n",
              " (4, 2, 9),\n",
              " (4, 3, 0),\n",
              " (4, 3, 1),\n",
              " (4, 3, 2),\n",
              " (4, 3, 3),\n",
              " (4, 3, 4),\n",
              " (4, 3, 5),\n",
              " (4, 3, 6),\n",
              " (4, 3, 7),\n",
              " (4, 3, 8),\n",
              " (4, 3, 9),\n",
              " (4, 4, 0),\n",
              " (4, 4, 1),\n",
              " (4, 4, 2),\n",
              " (4, 4, 3),\n",
              " (4, 4, 4),\n",
              " (4, 4, 5),\n",
              " (4, 4, 6),\n",
              " (4, 4, 7),\n",
              " (4, 4, 8),\n",
              " (4, 4, 9),\n",
              " (4, 5, 0),\n",
              " (4, 5, 1),\n",
              " (4, 5, 2),\n",
              " (4, 5, 3),\n",
              " (4, 5, 4),\n",
              " (4, 5, 5),\n",
              " (4, 5, 6),\n",
              " (4, 5, 7),\n",
              " (4, 5, 8),\n",
              " (4, 5, 9),\n",
              " (4, 6, 0),\n",
              " (4, 6, 1),\n",
              " (4, 6, 2),\n",
              " (4, 6, 3),\n",
              " (4, 6, 4),\n",
              " (4, 6, 5),\n",
              " (4, 6, 6),\n",
              " (4, 6, 7),\n",
              " (4, 6, 8),\n",
              " (4, 6, 9),\n",
              " (4, 7, 0),\n",
              " (4, 7, 1),\n",
              " (4, 7, 2),\n",
              " (4, 7, 3),\n",
              " (4, 7, 4),\n",
              " (4, 7, 5),\n",
              " (4, 7, 6),\n",
              " (4, 7, 7),\n",
              " (4, 7, 8),\n",
              " (4, 7, 9),\n",
              " (4, 8, 0),\n",
              " (4, 8, 1),\n",
              " (4, 8, 2),\n",
              " (4, 8, 3),\n",
              " (4, 8, 4),\n",
              " (4, 8, 5),\n",
              " (4, 8, 6),\n",
              " (4, 8, 7),\n",
              " (4, 8, 8),\n",
              " (4, 8, 9),\n",
              " (4, 9, 0),\n",
              " (4, 9, 1),\n",
              " (4, 9, 2),\n",
              " (4, 9, 3),\n",
              " (4, 9, 4),\n",
              " (4, 9, 5),\n",
              " (4, 9, 6),\n",
              " (4, 9, 7),\n",
              " (4, 9, 8),\n",
              " (4, 9, 9),\n",
              " (5, 0, 0),\n",
              " (5, 0, 1),\n",
              " (5, 0, 2),\n",
              " (5, 0, 3),\n",
              " (5, 0, 4),\n",
              " (5, 0, 5),\n",
              " (5, 0, 6),\n",
              " (5, 0, 7),\n",
              " (5, 0, 8),\n",
              " (5, 0, 9),\n",
              " (5, 1, 0),\n",
              " (5, 1, 1),\n",
              " (5, 1, 2),\n",
              " (5, 1, 3),\n",
              " (5, 1, 4),\n",
              " (5, 1, 5),\n",
              " (5, 1, 6),\n",
              " (5, 1, 7),\n",
              " (5, 1, 8),\n",
              " (5, 1, 9),\n",
              " (5, 2, 0),\n",
              " (5, 2, 1),\n",
              " (5, 2, 2),\n",
              " (5, 2, 3),\n",
              " (5, 2, 4),\n",
              " (5, 2, 5),\n",
              " (5, 2, 6),\n",
              " (5, 2, 7),\n",
              " (5, 2, 8),\n",
              " (5, 2, 9),\n",
              " (5, 3, 0),\n",
              " (5, 3, 1),\n",
              " (5, 3, 2),\n",
              " (5, 3, 3),\n",
              " (5, 3, 4),\n",
              " (5, 3, 5),\n",
              " (5, 3, 6),\n",
              " (5, 3, 7),\n",
              " (5, 3, 8),\n",
              " (5, 3, 9),\n",
              " (5, 4, 0),\n",
              " (5, 4, 1),\n",
              " (5, 4, 2),\n",
              " (5, 4, 3),\n",
              " (5, 4, 4),\n",
              " (5, 4, 5),\n",
              " (5, 4, 6),\n",
              " (5, 4, 7),\n",
              " (5, 4, 8),\n",
              " (5, 4, 9),\n",
              " (5, 5, 0),\n",
              " (5, 5, 1),\n",
              " (5, 5, 2),\n",
              " (5, 5, 3),\n",
              " (5, 5, 4),\n",
              " (5, 5, 5),\n",
              " (5, 5, 6),\n",
              " (5, 5, 7),\n",
              " (5, 5, 8),\n",
              " (5, 5, 9),\n",
              " (5, 6, 0),\n",
              " (5, 6, 1),\n",
              " (5, 6, 2),\n",
              " (5, 6, 3),\n",
              " (5, 6, 4),\n",
              " (5, 6, 5),\n",
              " (5, 6, 6),\n",
              " (5, 6, 7),\n",
              " (5, 6, 8),\n",
              " (5, 6, 9),\n",
              " (5, 7, 0),\n",
              " (5, 7, 1),\n",
              " (5, 7, 2),\n",
              " (5, 7, 3),\n",
              " (5, 7, 4),\n",
              " (5, 7, 5),\n",
              " (5, 7, 6),\n",
              " (5, 7, 7),\n",
              " (5, 7, 8),\n",
              " (5, 7, 9),\n",
              " (5, 8, 0),\n",
              " (5, 8, 1),\n",
              " (5, 8, 2),\n",
              " (5, 8, 3),\n",
              " (5, 8, 4),\n",
              " (5, 8, 5),\n",
              " (5, 8, 6),\n",
              " (5, 8, 7),\n",
              " (5, 8, 8),\n",
              " (5, 8, 9),\n",
              " (5, 9, 0),\n",
              " (5, 9, 1),\n",
              " (5, 9, 2),\n",
              " (5, 9, 3),\n",
              " (5, 9, 4),\n",
              " (5, 9, 5),\n",
              " (5, 9, 6),\n",
              " (5, 9, 7),\n",
              " (5, 9, 8),\n",
              " (5, 9, 9),\n",
              " (6, 0, 0),\n",
              " (6, 0, 1),\n",
              " (6, 0, 2),\n",
              " (6, 0, 3),\n",
              " (6, 0, 4),\n",
              " (6, 0, 5),\n",
              " (6, 0, 6),\n",
              " (6, 0, 7),\n",
              " (6, 0, 8),\n",
              " (6, 0, 9),\n",
              " (6, 1, 0),\n",
              " (6, 1, 1),\n",
              " (6, 1, 2),\n",
              " (6, 1, 3),\n",
              " (6, 1, 4),\n",
              " (6, 1, 5),\n",
              " (6, 1, 6),\n",
              " (6, 1, 7),\n",
              " (6, 1, 8),\n",
              " (6, 1, 9),\n",
              " (6, 2, 0),\n",
              " (6, 2, 1),\n",
              " (6, 2, 2),\n",
              " (6, 2, 3),\n",
              " (6, 2, 4),\n",
              " (6, 2, 5),\n",
              " (6, 2, 6),\n",
              " (6, 2, 7),\n",
              " (6, 2, 8),\n",
              " (6, 2, 9),\n",
              " (6, 3, 0),\n",
              " (6, 3, 1),\n",
              " (6, 3, 2),\n",
              " (6, 3, 3),\n",
              " (6, 3, 4),\n",
              " (6, 3, 5),\n",
              " (6, 3, 6),\n",
              " (6, 3, 7),\n",
              " (6, 3, 8),\n",
              " (6, 3, 9),\n",
              " (6, 4, 0),\n",
              " (6, 4, 1),\n",
              " (6, 4, 2),\n",
              " (6, 4, 3),\n",
              " (6, 4, 4),\n",
              " (6, 4, 5),\n",
              " (6, 4, 6),\n",
              " (6, 4, 7),\n",
              " (6, 4, 8),\n",
              " (6, 4, 9),\n",
              " (6, 5, 0),\n",
              " (6, 5, 1),\n",
              " (6, 5, 2),\n",
              " (6, 5, 3),\n",
              " (6, 5, 4),\n",
              " (6, 5, 5),\n",
              " (6, 5, 6),\n",
              " (6, 5, 7),\n",
              " (6, 5, 8),\n",
              " (6, 5, 9),\n",
              " (6, 6, 0),\n",
              " (6, 6, 1),\n",
              " (6, 6, 2),\n",
              " (6, 6, 3),\n",
              " (6, 6, 4),\n",
              " (6, 6, 5),\n",
              " (6, 6, 6),\n",
              " (6, 6, 7),\n",
              " (6, 6, 8),\n",
              " (6, 6, 9),\n",
              " (6, 7, 0),\n",
              " (6, 7, 1),\n",
              " (6, 7, 2),\n",
              " (6, 7, 3),\n",
              " (6, 7, 4),\n",
              " (6, 7, 5),\n",
              " (6, 7, 6),\n",
              " (6, 7, 7),\n",
              " (6, 7, 8),\n",
              " (6, 7, 9),\n",
              " (6, 8, 0),\n",
              " (6, 8, 1),\n",
              " (6, 8, 2),\n",
              " (6, 8, 3),\n",
              " (6, 8, 4),\n",
              " (6, 8, 5),\n",
              " (6, 8, 6),\n",
              " (6, 8, 7),\n",
              " (6, 8, 8),\n",
              " (6, 8, 9),\n",
              " (6, 9, 0),\n",
              " (6, 9, 1),\n",
              " (6, 9, 2),\n",
              " (6, 9, 3),\n",
              " (6, 9, 4),\n",
              " (6, 9, 5),\n",
              " (6, 9, 6),\n",
              " (6, 9, 7),\n",
              " (6, 9, 8),\n",
              " (6, 9, 9),\n",
              " (7, 0, 0),\n",
              " (7, 0, 1),\n",
              " (7, 0, 2),\n",
              " (7, 0, 3),\n",
              " (7, 0, 4),\n",
              " (7, 0, 5),\n",
              " (7, 0, 6),\n",
              " (7, 0, 7),\n",
              " (7, 0, 8),\n",
              " (7, 0, 9),\n",
              " (7, 1, 0),\n",
              " (7, 1, 1),\n",
              " (7, 1, 2),\n",
              " (7, 1, 3),\n",
              " (7, 1, 4),\n",
              " (7, 1, 5),\n",
              " (7, 1, 6),\n",
              " (7, 1, 7),\n",
              " (7, 1, 8),\n",
              " (7, 1, 9),\n",
              " (7, 2, 0),\n",
              " (7, 2, 1),\n",
              " (7, 2, 2),\n",
              " (7, 2, 3),\n",
              " (7, 2, 4),\n",
              " (7, 2, 5),\n",
              " (7, 2, 6),\n",
              " (7, 2, 7),\n",
              " (7, 2, 8),\n",
              " (7, 2, 9),\n",
              " (7, 3, 0),\n",
              " (7, 3, 1),\n",
              " (7, 3, 2),\n",
              " (7, 3, 3),\n",
              " (7, 3, 4),\n",
              " (7, 3, 5),\n",
              " (7, 3, 6),\n",
              " (7, 3, 7),\n",
              " (7, 3, 8),\n",
              " (7, 3, 9),\n",
              " (7, 4, 0),\n",
              " (7, 4, 1),\n",
              " (7, 4, 2),\n",
              " (7, 4, 3),\n",
              " (7, 4, 4),\n",
              " (7, 4, 5),\n",
              " (7, 4, 6),\n",
              " (7, 4, 7),\n",
              " (7, 4, 8),\n",
              " (7, 4, 9),\n",
              " (7, 5, 0),\n",
              " (7, 5, 1),\n",
              " (7, 5, 2),\n",
              " (7, 5, 3),\n",
              " (7, 5, 4),\n",
              " (7, 5, 5),\n",
              " (7, 5, 6),\n",
              " (7, 5, 7),\n",
              " (7, 5, 8),\n",
              " (7, 5, 9),\n",
              " (7, 6, 0),\n",
              " (7, 6, 1),\n",
              " (7, 6, 2),\n",
              " (7, 6, 3),\n",
              " (7, 6, 4),\n",
              " (7, 6, 5),\n",
              " (7, 6, 6),\n",
              " (7, 6, 7),\n",
              " (7, 6, 8),\n",
              " (7, 6, 9),\n",
              " (7, 7, 0),\n",
              " (7, 7, 1),\n",
              " (7, 7, 2),\n",
              " (7, 7, 3),\n",
              " (7, 7, 4),\n",
              " (7, 7, 5),\n",
              " (7, 7, 6),\n",
              " (7, 7, 7),\n",
              " (7, 7, 8),\n",
              " (7, 7, 9),\n",
              " (7, 8, 0),\n",
              " (7, 8, 1),\n",
              " (7, 8, 2),\n",
              " (7, 8, 3),\n",
              " (7, 8, 4),\n",
              " (7, 8, 5),\n",
              " (7, 8, 6),\n",
              " (7, 8, 7),\n",
              " (7, 8, 8),\n",
              " (7, 8, 9),\n",
              " (7, 9, 0),\n",
              " (7, 9, 1),\n",
              " (7, 9, 2),\n",
              " (7, 9, 3),\n",
              " (7, 9, 4),\n",
              " (7, 9, 5),\n",
              " (7, 9, 6),\n",
              " (7, 9, 7),\n",
              " (7, 9, 8),\n",
              " (7, 9, 9),\n",
              " (8, 0, 0),\n",
              " (8, 0, 1),\n",
              " (8, 0, 2),\n",
              " (8, 0, 3),\n",
              " (8, 0, 4),\n",
              " (8, 0, 5),\n",
              " (8, 0, 6),\n",
              " (8, 0, 7),\n",
              " (8, 0, 8),\n",
              " (8, 0, 9),\n",
              " (8, 1, 0),\n",
              " (8, 1, 1),\n",
              " (8, 1, 2),\n",
              " (8, 1, 3),\n",
              " (8, 1, 4),\n",
              " (8, 1, 5),\n",
              " (8, 1, 6),\n",
              " (8, 1, 7),\n",
              " (8, 1, 8),\n",
              " (8, 1, 9),\n",
              " (8, 2, 0),\n",
              " (8, 2, 1),\n",
              " (8, 2, 2),\n",
              " (8, 2, 3),\n",
              " (8, 2, 4),\n",
              " (8, 2, 5),\n",
              " (8, 2, 6),\n",
              " (8, 2, 7),\n",
              " (8, 2, 8),\n",
              " (8, 2, 9),\n",
              " (8, 3, 0),\n",
              " (8, 3, 1),\n",
              " (8, 3, 2),\n",
              " (8, 3, 3),\n",
              " (8, 3, 4),\n",
              " (8, 3, 5),\n",
              " (8, 3, 6),\n",
              " (8, 3, 7),\n",
              " (8, 3, 8),\n",
              " (8, 3, 9),\n",
              " (8, 4, 0),\n",
              " (8, 4, 1),\n",
              " (8, 4, 2),\n",
              " (8, 4, 3),\n",
              " (8, 4, 4),\n",
              " (8, 4, 5),\n",
              " (8, 4, 6),\n",
              " (8, 4, 7),\n",
              " (8, 4, 8),\n",
              " (8, 4, 9),\n",
              " (8, 5, 0),\n",
              " (8, 5, 1),\n",
              " (8, 5, 2),\n",
              " (8, 5, 3),\n",
              " (8, 5, 4),\n",
              " (8, 5, 5),\n",
              " (8, 5, 6),\n",
              " (8, 5, 7),\n",
              " (8, 5, 8),\n",
              " (8, 5, 9),\n",
              " (8, 6, 0),\n",
              " (8, 6, 1),\n",
              " (8, 6, 2),\n",
              " (8, 6, 3),\n",
              " (8, 6, 4),\n",
              " (8, 6, 5),\n",
              " (8, 6, 6),\n",
              " (8, 6, 7),\n",
              " (8, 6, 8),\n",
              " (8, 6, 9),\n",
              " (8, 7, 0),\n",
              " (8, 7, 1),\n",
              " (8, 7, 2),\n",
              " (8, 7, 3),\n",
              " (8, 7, 4),\n",
              " (8, 7, 5),\n",
              " (8, 7, 6),\n",
              " (8, 7, 7),\n",
              " (8, 7, 8),\n",
              " (8, 7, 9),\n",
              " (8, 8, 0),\n",
              " (8, 8, 1),\n",
              " (8, 8, 2),\n",
              " (8, 8, 3),\n",
              " (8, 8, 4),\n",
              " (8, 8, 5),\n",
              " (8, 8, 6),\n",
              " (8, 8, 7),\n",
              " (8, 8, 8),\n",
              " (8, 8, 9),\n",
              " (8, 9, 0),\n",
              " (8, 9, 1),\n",
              " (8, 9, 2),\n",
              " (8, 9, 3),\n",
              " (8, 9, 4),\n",
              " (8, 9, 5),\n",
              " (8, 9, 6),\n",
              " (8, 9, 7),\n",
              " (8, 9, 8),\n",
              " (8, 9, 9),\n",
              " (9, 0, 0),\n",
              " (9, 0, 1),\n",
              " (9, 0, 2),\n",
              " (9, 0, 3),\n",
              " (9, 0, 4),\n",
              " (9, 0, 5),\n",
              " (9, 0, 6),\n",
              " (9, 0, 7),\n",
              " (9, 0, 8),\n",
              " (9, 0, 9),\n",
              " (9, 1, 0),\n",
              " (9, 1, 1),\n",
              " (9, 1, 2),\n",
              " (9, 1, 3),\n",
              " (9, 1, 4),\n",
              " (9, 1, 5),\n",
              " (9, 1, 6),\n",
              " (9, 1, 7),\n",
              " (9, 1, 8),\n",
              " (9, 1, 9),\n",
              " (9, 2, 0),\n",
              " (9, 2, 1),\n",
              " (9, 2, 2),\n",
              " (9, 2, 3),\n",
              " (9, 2, 4),\n",
              " (9, 2, 5),\n",
              " (9, 2, 6),\n",
              " (9, 2, 7),\n",
              " (9, 2, 8),\n",
              " (9, 2, 9),\n",
              " (9, 3, 0),\n",
              " (9, 3, 1),\n",
              " (9, 3, 2),\n",
              " (9, 3, 3),\n",
              " (9, 3, 4),\n",
              " (9, 3, 5),\n",
              " (9, 3, 6),\n",
              " (9, 3, 7),\n",
              " (9, 3, 8),\n",
              " (9, 3, 9),\n",
              " (9, 4, 0),\n",
              " (9, 4, 1),\n",
              " (9, 4, 2),\n",
              " (9, 4, 3),\n",
              " (9, 4, 4),\n",
              " (9, 4, 5),\n",
              " (9, 4, 6),\n",
              " (9, 4, 7),\n",
              " (9, 4, 8),\n",
              " (9, 4, 9),\n",
              " (9, 5, 0),\n",
              " (9, 5, 1),\n",
              " (9, 5, 2),\n",
              " (9, 5, 3),\n",
              " (9, 5, 4),\n",
              " (9, 5, 5),\n",
              " (9, 5, 6),\n",
              " (9, 5, 7),\n",
              " (9, 5, 8),\n",
              " (9, 5, 9),\n",
              " (9, 6, 0),\n",
              " (9, 6, 1),\n",
              " (9, 6, 2),\n",
              " (9, 6, 3),\n",
              " (9, 6, 4),\n",
              " (9, 6, 5),\n",
              " (9, 6, 6),\n",
              " (9, 6, 7),\n",
              " (9, 6, 8),\n",
              " (9, 6, 9),\n",
              " (9, 7, 0),\n",
              " (9, 7, 1),\n",
              " (9, 7, 2),\n",
              " (9, 7, 3),\n",
              " (9, 7, 4),\n",
              " (9, 7, 5),\n",
              " (9, 7, 6),\n",
              " (9, 7, 7),\n",
              " (9, 7, 8),\n",
              " (9, 7, 9),\n",
              " (9, 8, 0),\n",
              " (9, 8, 1),\n",
              " (9, 8, 2),\n",
              " (9, 8, 3),\n",
              " (9, 8, 4),\n",
              " (9, 8, 5),\n",
              " (9, 8, 6),\n",
              " (9, 8, 7),\n",
              " (9, 8, 8),\n",
              " (9, 8, 9),\n",
              " (9, 9, 0),\n",
              " (9, 9, 1),\n",
              " (9, 9, 2),\n",
              " (9, 9, 3),\n",
              " (9, 9, 4),\n",
              " (9, 9, 5),\n",
              " (9, 9, 6),\n",
              " (9, 9, 7),\n",
              " (9, 9, 8),\n",
              " (9, 9, 9)]"
            ]
          },
          "execution_count": 28,
          "metadata": {},
          "output_type": "execute_result"
        }
      ],
      "source": [
        "pdq"
      ]
    },
    {
      "cell_type": "code",
      "execution_count": null,
      "id": "46ff5ede",
      "metadata": {
        "id": "46ff5ede",
        "outputId": "031a37cf-6e23-4396-e881-6a0e46e95b95"
      },
      "outputs": [
        {
          "name": "stdout",
          "output_type": "stream",
          "text": [
            "(0, 0, 0) 504.8634244592431\n",
            "(0, 0, 1) 488.2943465298915\n",
            "(0, 0, 2) 468.9081020119421\n",
            "(0, 0, 3) 470.88425077173315\n",
            "(0, 0, 4) 466.33624588844873\n",
            "(0, 1, 0) 456.42274234039724\n",
            "(0, 1, 1) 449.16175426944164\n",
            "(0, 1, 2) 449.16464105995055\n",
            "(0, 1, 3) 447.6300096213802\n",
            "(0, 1, 4) 433.0613127904097\n",
            "(0, 1, 5) 438.23788123172017\n",
            "(0, 1, 6) 438.95730408881246\n",
            "(0, 1, 7) 439.5127288904408\n",
            "(0, 1, 8) 431.5178110362821\n",
            "(0, 1, 9) 436.0866436823463\n",
            "(0, 2, 0) 467.565246479043\n",
            "(0, 2, 1) 448.24565150299827\n",
            "(0, 2, 2) 438.8002981772898\n",
            "(0, 2, 3) 439.9794833314614\n",
            "(0, 2, 5) 425.31095605439475\n",
            "(0, 2, 6) 425.2624443795288\n",
            "(0, 2, 7) 426.73758584048596\n",
            "(0, 2, 9) 423.53720258186434\n",
            "(1, 0, 0) 472.5800372242106\n",
            "(1, 0, 1) 471.6159732850941\n",
            "(1, 0, 2) 690.9701913684395\n",
            "(1, 0, 3) 467.48570463485396\n",
            "(1, 0, 4) 452.7771859703671\n",
            "(1, 0, 6) 456.5831936637436\n",
            "(1, 1, 0) 457.3274834573187\n",
            "(1, 1, 1) 450.60865147011987\n",
            "(1, 1, 2) 450.9617863152412\n",
            "(1, 1, 3) 444.65896188232034\n",
            "(1, 1, 4) 434.27259240408296\n",
            "(1, 1, 5) 435.8443773052622\n",
            "(1, 1, 6) 437.1107653311407\n",
            "(1, 2, 0) 465.1982066409902\n",
            "(1, 2, 1) 449.4951363436491\n",
            "(1, 2, 2) 441.3243809650162\n",
            "(2, 0, 0) 474.3647780756329\n",
            "(2, 0, 1) 473.21549843552634\n",
            "(2, 0, 2) 481.3541989021512\n",
            "(2, 0, 3) 465.2312350003923\n",
            "(2, 0, 4) 454.633553468208\n",
            "(2, 0, 6) 461.1007393825431\n",
            "(2, 1, 0) 446.2357866030234\n",
            "(2, 1, 1) 443.13634899006047\n",
            "(2, 1, 2) 437.23643831510356\n",
            "(2, 1, 3) 432.7405417442211\n",
            "(2, 2, 0) 459.5372135323591\n",
            "(2, 2, 1) 438.22542715533945\n",
            "(2, 2, 4) 424.53610693939254\n",
            "(3, 0, 0) 467.23861582961104\n",
            "(3, 1, 0) 432.7500129985866\n",
            "(3, 1, 1) 423.87198136728495\n",
            "(3, 1, 2) 421.86817655762815\n",
            "(3, 2, 0) 409.4847758562146\n",
            "(3, 2, 1) 411.41403662518263\n",
            "(4, 0, 0) 461.2701956865734\n",
            "(4, 0, 5) 472.7568055708334\n",
            "(4, 1, 0) 418.9967122963132\n",
            "(4, 1, 2) 460.25729029189165\n",
            "(4, 1, 3) 470.6339142021825\n",
            "(4, 2, 0) 432.0533197421726\n",
            "(5, 0, 0) 485.60516091550187\n",
            "(5, 1, 0) 420.59895067321094\n",
            "(5, 1, 2) 424.49529054623116\n",
            "(5, 2, 0) 410.6900485080569\n",
            "(6, 0, 1) 480.72770742413286\n",
            "(9, 1, 0) 447.58046383864587\n"
          ]
        }
      ],
      "source": [
        "import warnings\n",
        "warnings.filterwarnings('ignore')\n",
        "\n",
        "for param in pdq:\n",
        "    try:\n",
        "        ARIMA_model = ARIMA(train['Sales'], order=param)\n",
        "        ARIMA_model_fit = ARIMA_model.fit()\n",
        "        print(param, ARIMA_model_fit.aic)\n",
        "    except:            \n",
        "        continue"
      ]
    },
    {
      "cell_type": "code",
      "execution_count": null,
      "id": "ceabf53f",
      "metadata": {
        "id": "ceabf53f"
      },
      "outputs": [],
      "source": [
        "ARIMA_final = ARIMA(train['Sales'], order=(3, 2, 0))\n",
        "ARIMA_final_fit = ARIMA_final.fit(disp=0)"
      ]
    },
    {
      "cell_type": "code",
      "execution_count": 1,
      "id": "b3b1fc1d",
      "metadata": {
        "id": "b3b1fc1d"
      },
      "outputs": [],
      "source": [
        "pred = ARIMA_final_fit.predict(start= test[0], end= test[-1])"
      ]
    },
    {
      "cell_type": "code",
      "execution_count": null,
      "id": "51aaf31d",
      "metadata": {
        "id": "51aaf31d",
        "outputId": "17a9883e-13c4-44ec-cb05-e2ce5875ce83"
      },
      "outputs": [
        {
          "data": {
            "text/plain": [
              "array([3307.79240976, 4096.96592054, 3788.17270605, 3562.28344608,\n",
              "       3606.67709157, 4335.24625707, 3995.21330411, 3811.04414158,\n",
              "       3951.3452604 , 4614.27317378])"
            ]
          },
          "execution_count": 36,
          "metadata": {},
          "output_type": "execute_result"
        }
      ],
      "source": [
        "forecast = ARIMA_final_fit.forecast(steps=10)[0]\n",
        "forecast"
      ]
    },
    {
      "cell_type": "code",
      "execution_count": null,
      "id": "f6321b2b",
      "metadata": {
        "id": "f6321b2b",
        "outputId": "06990421-51e4-46a6-d757-5be1a2b114f1"
      },
      "outputs": [
        {
          "data": {
            "text/plain": [
              "<AxesSubplot:ylabel='Density'>"
            ]
          },
          "execution_count": 39,
          "metadata": {},
          "output_type": "execute_result"
        },
        {
          "data": {
            "image/png": "[encoded data removed]",
            "text/plain": [
              "<Figure size 432x288 with 1 Axes>"
            ]
          },
          "metadata": {
            "needs_background": "light"
          },
          "output_type": "display_data"
        }
      ],
      "source": [
        "ARIMA_final_fit.resid.plot(kind= 'kde')"
      ]
    },
    {
      "cell_type": "code",
      "execution_count": null,
      "id": "13211934",
      "metadata": {
        "id": "13211934"
      },
      "outputs": [],
      "source": [
        "def RMSE(act,pred):\n",
        "    MSE = np.mean((act-pred)**2)\n",
        "    return np.sqrt(MSE)"
      ]
    },
    {
      "cell_type": "code",
      "execution_count": null,
      "id": "78209f78",
      "metadata": {
        "id": "78209f78",
        "outputId": "581c3baf-a8ea-4630-db8d-021ee92916aa"
      },
      "outputs": [
        {
          "data": {
            "text/plain": [
              "518.8873385540003"
            ]
          },
          "execution_count": 38,
          "metadata": {},
          "output_type": "execute_result"
        }
      ],
      "source": [
        "RMSE(test['Sales'], forecast)"
      ]
    },
    {
      "cell_type": "markdown",
      "id": "28a1115a",
      "metadata": {
        "id": "28a1115a"
      },
      "source": [
        "#### ========================================================================================================"
      ]
    }
  ],
  "metadata": {
    "kernelspec": {
      "display_name": "Python 3 (ipykernel)",
      "language": "python",
      "name": "python3"
    },
    "language_info": {
      "codemirror_mode": {
        "name": "ipython",
        "version": 3
      },
      "file_extension": ".py",
      "mimetype": "text/x-python",
      "name": "python",
      "nbconvert_exporter": "python",
      "pygments_lexer": "ipython3",
      "version": "3.9.7"
    },
    "colab": {
      "provenance": [],
      "include_colab_link": true
    }
  },
  "nbformat": 4,
  "nbformat_minor": 5
}