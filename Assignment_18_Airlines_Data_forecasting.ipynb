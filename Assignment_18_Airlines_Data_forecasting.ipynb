{
  "cells": [
    {
      "cell_type": "markdown",
      "metadata": {
        "id": "view-in-github",
        "colab_type": "text"
      },
      "source": [
        "<a href=\"https://colab.research.google.com/github/SurajLahariya/DS_learning/blob/main/Assignment_18_Airlines_Data_forecasting.ipynb\" target=\"_parent\"><img src=\"https://colab.research.google.com/assets/colab-badge.svg\" alt=\"Open In Colab\"/></a>"
      ]
    },
    {
      "cell_type": "markdown",
      "id": "efe30413",
      "metadata": {
        "id": "efe30413"
      },
      "source": [
        "## 1. Import necessary libraries"
      ]
    },
    {
      "cell_type": "code",
      "execution_count": null,
      "id": "0a483c54",
      "metadata": {
        "id": "0a483c54"
      },
      "outputs": [],
      "source": [
        "import pandas as pd\n",
        "\n",
        "import numpy as np\n",
        "\n",
        "import matplotlib.pyplot as plt\n",
        "import seaborn as sns\n",
        "\n",
        "import warnings\n",
        "warnings.filterwarnings('ignore')\n",
        "\n",
        "import statsmodels.formula.api as smf\n",
        "\n",
        "from statsmodels.tsa.seasonal import seasonal_decompose\n",
        "\n",
        "from statsmodels.graphics.tsaplots import plot_acf, plot_pacf \n",
        "\n",
        "from statsmodels.tsa.holtwinters import SimpleExpSmoothing # SES\n",
        "from statsmodels.tsa.holtwinters import Holt # Holts Exponential Smoothing\n",
        "from statsmodels.tsa.holtwinters import ExponentialSmoothing "
      ]
    },
    {
      "cell_type": "markdown",
      "id": "54f34540",
      "metadata": {
        "id": "54f34540"
      },
      "source": [
        "## 2. Data collection"
      ]
    },
    {
      "cell_type": "code",
      "execution_count": null,
      "id": "1e3e7667",
      "metadata": {
        "id": "1e3e7667",
        "outputId": "19d6cb8a-c5e0-4910-f253-42f7b730cddd"
      },
      "outputs": [
        {
          "data": {
            "text/html": [
              "<div>\n",
              "<style scoped>\n",
              "    .dataframe tbody tr th:only-of-type {\n",
              "        vertical-align: middle;\n",
              "    }\n",
              "\n",
              "    .dataframe tbody tr th {\n",
              "        vertical-align: top;\n",
              "    }\n",
              "\n",
              "    .dataframe thead th {\n",
              "        text-align: right;\n",
              "    }\n",
              "</style>\n",
              "<table border=\"1\" class=\"dataframe\">\n",
              "  <thead>\n",
              "    <tr style=\"text-align: right;\">\n",
              "      <th></th>\n",
              "      <th>Month</th>\n",
              "      <th>Passengers</th>\n",
              "    </tr>\n",
              "  </thead>\n",
              "  <tbody>\n",
              "    <tr>\n",
              "      <th>0</th>\n",
              "      <td>1995-01-01</td>\n",
              "      <td>112</td>\n",
              "    </tr>\n",
              "    <tr>\n",
              "      <th>1</th>\n",
              "      <td>1995-02-01</td>\n",
              "      <td>118</td>\n",
              "    </tr>\n",
              "    <tr>\n",
              "      <th>2</th>\n",
              "      <td>1995-03-01</td>\n",
              "      <td>132</td>\n",
              "    </tr>\n",
              "    <tr>\n",
              "      <th>3</th>\n",
              "      <td>1995-04-01</td>\n",
              "      <td>129</td>\n",
              "    </tr>\n",
              "    <tr>\n",
              "      <th>4</th>\n",
              "      <td>1995-05-01</td>\n",
              "      <td>121</td>\n",
              "    </tr>\n",
              "  </tbody>\n",
              "</table>\n",
              "</div>"
            ],
            "text/plain": [
              "       Month  Passengers\n",
              "0 1995-01-01         112\n",
              "1 1995-02-01         118\n",
              "2 1995-03-01         132\n",
              "3 1995-04-01         129\n",
              "4 1995-05-01         121"
            ]
          },
          "execution_count": 2,
          "metadata": {},
          "output_type": "execute_result"
        }
      ],
      "source": [
        "df = pd.read_excel(r'C:\\Users\\sawaled\\Desktop\\Personal\\data\\Assignement_18_Forecasting\\Airlines_Data.xlsx')\n",
        "df.head()"
      ]
    },
    {
      "cell_type": "markdown",
      "id": "46f011c7",
      "metadata": {
        "id": "46f011c7"
      },
      "source": [
        "#### ========================================================================================================"
      ]
    },
    {
      "cell_type": "markdown",
      "id": "9533a938",
      "metadata": {
        "id": "9533a938"
      },
      "source": [
        "## 3. Data Understanding, Visulalization and Preaparation "
      ]
    },
    {
      "cell_type": "code",
      "execution_count": null,
      "id": "8b095c83",
      "metadata": {
        "id": "8b095c83",
        "outputId": "25d31d27-40bf-44b7-e671-728f1afae9d2"
      },
      "outputs": [
        {
          "data": {
            "text/plain": [
              "(96, 2)"
            ]
          },
          "execution_count": 3,
          "metadata": {},
          "output_type": "execute_result"
        }
      ],
      "source": [
        "df.shape"
      ]
    },
    {
      "cell_type": "code",
      "execution_count": null,
      "id": "b93bf25c",
      "metadata": {
        "id": "b93bf25c",
        "outputId": "bc60c3f8-00ce-4e08-923d-10401d291238"
      },
      "outputs": [
        {
          "data": {
            "text/plain": [
              "Month         0\n",
              "Passengers    0\n",
              "dtype: int64"
            ]
          },
          "execution_count": 4,
          "metadata": {},
          "output_type": "execute_result"
        }
      ],
      "source": [
        "df.isna().sum()"
      ]
    },
    {
      "cell_type": "code",
      "execution_count": null,
      "id": "ad768480",
      "metadata": {
        "id": "ad768480",
        "outputId": "14c599ac-41e2-4cb3-8de5-95c35f822118"
      },
      "outputs": [
        {
          "data": {
            "text/plain": [
              "Month         datetime64[ns]\n",
              "Passengers             int64\n",
              "dtype: object"
            ]
          },
          "execution_count": 5,
          "metadata": {},
          "output_type": "execute_result"
        }
      ],
      "source": [
        "df.dtypes"
      ]
    },
    {
      "cell_type": "code",
      "execution_count": null,
      "id": "3d6abbf7",
      "metadata": {
        "scrolled": false,
        "id": "3d6abbf7",
        "outputId": "c4d9b879-5e33-4155-8ba8-611a6d9cba87"
      },
      "outputs": [
        {
          "data": {
            "image/png": "[encoded data removed]",
            "text/plain": [
              "<Figure size 864x432 with 1 Axes>"
            ]
          },
          "metadata": {
            "needs_background": "light"
          },
          "output_type": "display_data"
        }
      ],
      "source": [
        "plt.figure(figsize=(12,6))\n",
        "plt.plot(df.Passengers, color='green')\n",
        "plt.show()"
      ]
    },
    {
      "cell_type": "code",
      "execution_count": null,
      "id": "be618c55",
      "metadata": {
        "id": "be618c55",
        "outputId": "c9a5ef95-0463-4242-b65f-89c59d9fabc5"
      },
      "outputs": [
        {
          "data": {
            "text/html": [
              "<div>\n",
              "<style scoped>\n",
              "    .dataframe tbody tr th:only-of-type {\n",
              "        vertical-align: middle;\n",
              "    }\n",
              "\n",
              "    .dataframe tbody tr th {\n",
              "        vertical-align: top;\n",
              "    }\n",
              "\n",
              "    .dataframe thead th {\n",
              "        text-align: right;\n",
              "    }\n",
              "</style>\n",
              "<table border=\"1\" class=\"dataframe\">\n",
              "  <thead>\n",
              "    <tr style=\"text-align: right;\">\n",
              "      <th></th>\n",
              "      <th>Month</th>\n",
              "      <th>Passengers</th>\n",
              "      <th>mon</th>\n",
              "      <th>year</th>\n",
              "    </tr>\n",
              "  </thead>\n",
              "  <tbody>\n",
              "    <tr>\n",
              "      <th>0</th>\n",
              "      <td>1995-01-01</td>\n",
              "      <td>112</td>\n",
              "      <td>Jan</td>\n",
              "      <td>1995</td>\n",
              "    </tr>\n",
              "    <tr>\n",
              "      <th>1</th>\n",
              "      <td>1995-02-01</td>\n",
              "      <td>118</td>\n",
              "      <td>Feb</td>\n",
              "      <td>1995</td>\n",
              "    </tr>\n",
              "    <tr>\n",
              "      <th>2</th>\n",
              "      <td>1995-03-01</td>\n",
              "      <td>132</td>\n",
              "      <td>Mar</td>\n",
              "      <td>1995</td>\n",
              "    </tr>\n",
              "    <tr>\n",
              "      <th>3</th>\n",
              "      <td>1995-04-01</td>\n",
              "      <td>129</td>\n",
              "      <td>Apr</td>\n",
              "      <td>1995</td>\n",
              "    </tr>\n",
              "    <tr>\n",
              "      <th>4</th>\n",
              "      <td>1995-05-01</td>\n",
              "      <td>121</td>\n",
              "      <td>May</td>\n",
              "      <td>1995</td>\n",
              "    </tr>\n",
              "    <tr>\n",
              "      <th>...</th>\n",
              "      <td>...</td>\n",
              "      <td>...</td>\n",
              "      <td>...</td>\n",
              "      <td>...</td>\n",
              "    </tr>\n",
              "    <tr>\n",
              "      <th>91</th>\n",
              "      <td>2002-08-01</td>\n",
              "      <td>405</td>\n",
              "      <td>Aug</td>\n",
              "      <td>2002</td>\n",
              "    </tr>\n",
              "    <tr>\n",
              "      <th>92</th>\n",
              "      <td>2002-09-01</td>\n",
              "      <td>355</td>\n",
              "      <td>Sep</td>\n",
              "      <td>2002</td>\n",
              "    </tr>\n",
              "    <tr>\n",
              "      <th>93</th>\n",
              "      <td>2002-10-01</td>\n",
              "      <td>306</td>\n",
              "      <td>Oct</td>\n",
              "      <td>2002</td>\n",
              "    </tr>\n",
              "    <tr>\n",
              "      <th>94</th>\n",
              "      <td>2002-11-01</td>\n",
              "      <td>271</td>\n",
              "      <td>Nov</td>\n",
              "      <td>2002</td>\n",
              "    </tr>\n",
              "    <tr>\n",
              "      <th>95</th>\n",
              "      <td>2002-12-01</td>\n",
              "      <td>306</td>\n",
              "      <td>Dec</td>\n",
              "      <td>2002</td>\n",
              "    </tr>\n",
              "  </tbody>\n",
              "</table>\n",
              "<p>96 rows × 4 columns</p>\n",
              "</div>"
            ],
            "text/plain": [
              "        Month  Passengers  mon  year\n",
              "0  1995-01-01         112  Jan  1995\n",
              "1  1995-02-01         118  Feb  1995\n",
              "2  1995-03-01         132  Mar  1995\n",
              "3  1995-04-01         129  Apr  1995\n",
              "4  1995-05-01         121  May  1995\n",
              "..        ...         ...  ...   ...\n",
              "91 2002-08-01         405  Aug  2002\n",
              "92 2002-09-01         355  Sep  2002\n",
              "93 2002-10-01         306  Oct  2002\n",
              "94 2002-11-01         271  Nov  2002\n",
              "95 2002-12-01         306  Dec  2002\n",
              "\n",
              "[96 rows x 4 columns]"
            ]
          },
          "execution_count": 7,
          "metadata": {},
          "output_type": "execute_result"
        }
      ],
      "source": [
        "df['mon'] = df['Month'].dt.strftime('%b')\n",
        "df['year'] = df['Month'].dt.strftime('%Y')\n",
        "df"
      ]
    },
    {
      "cell_type": "code",
      "execution_count": null,
      "id": "4c6eca6a",
      "metadata": {
        "id": "4c6eca6a",
        "outputId": "3011027b-7ed1-448b-cbf5-0352b50a6bc3"
      },
      "outputs": [
        {
          "data": {
            "image/png": "[encoded data removed]",
            "text/plain": [
              "<Figure size 864x576 with 2 Axes>"
            ]
          },
          "metadata": {
            "needs_background": "light"
          },
          "output_type": "display_data"
        }
      ],
      "source": [
        "pivot = pd.pivot_table(data = df,values= 'Passengers', index='mon', columns='year')\n",
        "plt.figure(figsize=(12,8))\n",
        "sns.heatmap(pivot, annot= True, fmt='g')\n",
        "plt.show()"
      ]
    },
    {
      "cell_type": "code",
      "execution_count": null,
      "id": "71ec7e60",
      "metadata": {
        "scrolled": false,
        "id": "71ec7e60",
        "outputId": "2234220f-e31c-4fa0-cbf6-80edfa02ed39"
      },
      "outputs": [
        {
          "data": {
            "image/png": "[encoded data removed]",
            "text/plain": [
              "<Figure size 1008x576 with 2 Axes>"
            ]
          },
          "metadata": {
            "needs_background": "light"
          },
          "output_type": "display_data"
        }
      ],
      "source": [
        "fig,axs = plt.subplots(2,1,sharey= True, figsize=(14,8))\n",
        "sns.boxplot(ax = axs[0], x= 'mon', y='Passengers', data=df)\n",
        "sns.boxplot(ax = axs[1], x= 'year', y='Passengers', data=df)\n",
        "plt.show()"
      ]
    },
    {
      "cell_type": "markdown",
      "id": "b8884c4f",
      "metadata": {
        "id": "b8884c4f"
      },
      "source": [
        "#### ========================================================================================================"
      ]
    },
    {
      "cell_type": "markdown",
      "id": "949856d6",
      "metadata": {
        "id": "949856d6"
      },
      "source": [
        "## 4. Model  building and evaluation matrix"
      ]
    },
    {
      "cell_type": "code",
      "execution_count": null,
      "id": "0afcdf83",
      "metadata": {
        "id": "0afcdf83",
        "outputId": "dc248596-35ef-4ffd-97d2-d5d73d2e303e"
      },
      "outputs": [
        {
          "data": {
            "text/html": [
              "<div>\n",
              "<style scoped>\n",
              "    .dataframe tbody tr th:only-of-type {\n",
              "        vertical-align: middle;\n",
              "    }\n",
              "\n",
              "    .dataframe tbody tr th {\n",
              "        vertical-align: top;\n",
              "    }\n",
              "\n",
              "    .dataframe thead th {\n",
              "        text-align: right;\n",
              "    }\n",
              "</style>\n",
              "<table border=\"1\" class=\"dataframe\">\n",
              "  <thead>\n",
              "    <tr style=\"text-align: right;\">\n",
              "      <th></th>\n",
              "      <th>Month</th>\n",
              "      <th>Passengers</th>\n",
              "      <th>year</th>\n",
              "      <th>t</th>\n",
              "      <th>t_sqr</th>\n",
              "      <th>log_y</th>\n",
              "      <th>mon_Apr</th>\n",
              "      <th>mon_Aug</th>\n",
              "      <th>mon_Dec</th>\n",
              "      <th>mon_Feb</th>\n",
              "      <th>mon_Jan</th>\n",
              "      <th>mon_Jul</th>\n",
              "      <th>mon_Jun</th>\n",
              "      <th>mon_Mar</th>\n",
              "      <th>mon_May</th>\n",
              "      <th>mon_Nov</th>\n",
              "      <th>mon_Oct</th>\n",
              "      <th>mon_Sep</th>\n",
              "    </tr>\n",
              "  </thead>\n",
              "  <tbody>\n",
              "    <tr>\n",
              "      <th>0</th>\n",
              "      <td>1995-01-01</td>\n",
              "      <td>112</td>\n",
              "      <td>1995</td>\n",
              "      <td>1</td>\n",
              "      <td>1</td>\n",
              "      <td>4.718499</td>\n",
              "      <td>0</td>\n",
              "      <td>0</td>\n",
              "      <td>0</td>\n",
              "      <td>0</td>\n",
              "      <td>1</td>\n",
              "      <td>0</td>\n",
              "      <td>0</td>\n",
              "      <td>0</td>\n",
              "      <td>0</td>\n",
              "      <td>0</td>\n",
              "      <td>0</td>\n",
              "      <td>0</td>\n",
              "    </tr>\n",
              "    <tr>\n",
              "      <th>1</th>\n",
              "      <td>1995-02-01</td>\n",
              "      <td>118</td>\n",
              "      <td>1995</td>\n",
              "      <td>2</td>\n",
              "      <td>4</td>\n",
              "      <td>4.770685</td>\n",
              "      <td>0</td>\n",
              "      <td>0</td>\n",
              "      <td>0</td>\n",
              "      <td>1</td>\n",
              "      <td>0</td>\n",
              "      <td>0</td>\n",
              "      <td>0</td>\n",
              "      <td>0</td>\n",
              "      <td>0</td>\n",
              "      <td>0</td>\n",
              "      <td>0</td>\n",
              "      <td>0</td>\n",
              "    </tr>\n",
              "    <tr>\n",
              "      <th>2</th>\n",
              "      <td>1995-03-01</td>\n",
              "      <td>132</td>\n",
              "      <td>1995</td>\n",
              "      <td>3</td>\n",
              "      <td>9</td>\n",
              "      <td>4.882802</td>\n",
              "      <td>0</td>\n",
              "      <td>0</td>\n",
              "      <td>0</td>\n",
              "      <td>0</td>\n",
              "      <td>0</td>\n",
              "      <td>0</td>\n",
              "      <td>0</td>\n",
              "      <td>1</td>\n",
              "      <td>0</td>\n",
              "      <td>0</td>\n",
              "      <td>0</td>\n",
              "      <td>0</td>\n",
              "    </tr>\n",
              "    <tr>\n",
              "      <th>3</th>\n",
              "      <td>1995-04-01</td>\n",
              "      <td>129</td>\n",
              "      <td>1995</td>\n",
              "      <td>4</td>\n",
              "      <td>16</td>\n",
              "      <td>4.859812</td>\n",
              "      <td>1</td>\n",
              "      <td>0</td>\n",
              "      <td>0</td>\n",
              "      <td>0</td>\n",
              "      <td>0</td>\n",
              "      <td>0</td>\n",
              "      <td>0</td>\n",
              "      <td>0</td>\n",
              "      <td>0</td>\n",
              "      <td>0</td>\n",
              "      <td>0</td>\n",
              "      <td>0</td>\n",
              "    </tr>\n",
              "    <tr>\n",
              "      <th>4</th>\n",
              "      <td>1995-05-01</td>\n",
              "      <td>121</td>\n",
              "      <td>1995</td>\n",
              "      <td>5</td>\n",
              "      <td>25</td>\n",
              "      <td>4.795791</td>\n",
              "      <td>0</td>\n",
              "      <td>0</td>\n",
              "      <td>0</td>\n",
              "      <td>0</td>\n",
              "      <td>0</td>\n",
              "      <td>0</td>\n",
              "      <td>0</td>\n",
              "      <td>0</td>\n",
              "      <td>1</td>\n",
              "      <td>0</td>\n",
              "      <td>0</td>\n",
              "      <td>0</td>\n",
              "    </tr>\n",
              "  </tbody>\n",
              "</table>\n",
              "</div>"
            ],
            "text/plain": [
              "       Month  Passengers  year  t  t_sqr     log_y  mon_Apr  mon_Aug  mon_Dec  \\\n",
              "0 1995-01-01         112  1995  1      1  4.718499        0        0        0   \n",
              "1 1995-02-01         118  1995  2      4  4.770685        0        0        0   \n",
              "2 1995-03-01         132  1995  3      9  4.882802        0        0        0   \n",
              "3 1995-04-01         129  1995  4     16  4.859812        1        0        0   \n",
              "4 1995-05-01         121  1995  5     25  4.795791        0        0        0   \n",
              "\n",
              "   mon_Feb  mon_Jan  mon_Jul  mon_Jun  mon_Mar  mon_May  mon_Nov  mon_Oct  \\\n",
              "0        0        1        0        0        0        0        0        0   \n",
              "1        1        0        0        0        0        0        0        0   \n",
              "2        0        0        0        0        1        0        0        0   \n",
              "3        0        0        0        0        0        0        0        0   \n",
              "4        0        0        0        0        0        1        0        0   \n",
              "\n",
              "   mon_Sep  \n",
              "0        0  \n",
              "1        0  \n",
              "2        0  \n",
              "3        0  \n",
              "4        0  "
            ]
          },
          "execution_count": 10,
          "metadata": {},
          "output_type": "execute_result"
        }
      ],
      "source": [
        "df1 = df.copy()\n",
        "\n",
        "df1['t'] = range(1,97)\n",
        "df1['t_sqr'] = df1['t']*df1['t']\n",
        "df1['log_y'] = np.log(df1['Passengers'])\n",
        "df1 = pd.get_dummies(data = df1,columns= ['mon'])\n",
        "\n",
        "df1.head()"
      ]
    },
    {
      "cell_type": "code",
      "execution_count": null,
      "id": "a44995d7",
      "metadata": {
        "scrolled": false,
        "id": "a44995d7"
      },
      "outputs": [],
      "source": [
        "train = df1.head(75)\n",
        "test = df1.tail(21)"
      ]
    },
    {
      "cell_type": "code",
      "execution_count": null,
      "id": "a224eecb",
      "metadata": {
        "id": "a224eecb"
      },
      "outputs": [],
      "source": [
        "def RMSE(act,pred):\n",
        "    MSE = np.mean((act-pred)**2)\n",
        "    return np.sqrt(MSE)"
      ]
    },
    {
      "cell_type": "markdown",
      "id": "84af6758",
      "metadata": {
        "id": "84af6758"
      },
      "source": [
        "#### ========================================================================================================"
      ]
    },
    {
      "cell_type": "markdown",
      "id": "85dadbf6",
      "metadata": {
        "id": "85dadbf6"
      },
      "source": [
        "## 5. Forecasting with Model based Techniques "
      ]
    },
    {
      "cell_type": "markdown",
      "id": "4a5da31d",
      "metadata": {
        "id": "4a5da31d"
      },
      "source": [
        "### 5.1 Linear model"
      ]
    },
    {
      "cell_type": "code",
      "execution_count": null,
      "id": "e6ed8e0b",
      "metadata": {
        "id": "e6ed8e0b"
      },
      "outputs": [],
      "source": [
        "lin_model = smf.ols('Passengers~t', data= train).fit()\n",
        "lin_pred = lin_model.predict(test['t'])\n",
        "RMSE_lin = RMSE(test['Passengers'],lin_pred)"
      ]
    },
    {
      "cell_type": "markdown",
      "id": "455056b4",
      "metadata": {
        "id": "455056b4"
      },
      "source": [
        "### 5.2 Exponential model "
      ]
    },
    {
      "cell_type": "code",
      "execution_count": null,
      "id": "73f19f6a",
      "metadata": {
        "id": "73f19f6a"
      },
      "outputs": [],
      "source": [
        "expo_model = smf.ols('log_y~t', data= train).fit()\n",
        "expo_pred = expo_model.predict(test['t'])\n",
        "RMSE_expo = RMSE(test['Passengers'],expo_pred)"
      ]
    },
    {
      "cell_type": "markdown",
      "id": "752e212e",
      "metadata": {
        "id": "752e212e"
      },
      "source": [
        "### 5.3 Quadratic model"
      ]
    },
    {
      "cell_type": "code",
      "execution_count": null,
      "id": "af378896",
      "metadata": {
        "id": "af378896"
      },
      "outputs": [],
      "source": [
        "quad_model = smf.ols('Passengers ~ t + t_sqr', data= train).fit()\n",
        "quad_pred = quad_model.predict(test[['t','t_sqr']])\n",
        "RMSE_quad = RMSE(test['Passengers'],quad_pred)"
      ]
    },
    {
      "cell_type": "markdown",
      "id": "0ddb8f5b",
      "metadata": {
        "id": "0ddb8f5b"
      },
      "source": [
        "### 5.4 Additive model"
      ]
    },
    {
      "cell_type": "code",
      "execution_count": null,
      "id": "e1d88e68",
      "metadata": {
        "id": "e1d88e68"
      },
      "outputs": [],
      "source": [
        "addit_model = smf.ols('Passengers ~ mon_Apr+mon_Aug+mon_Dec+mon_Feb+mon_Jan+ mon_Jul+ mon_Jun+mon_Mar+mon_May+mon_Nov+mon_Oct+mon_Sep', data= train).fit()\n",
        "addit_pred = addit_model.predict(test[[ 'mon_Apr','mon_Aug', 'mon_Dec', 'mon_Feb', 'mon_Jan', 'mon_Jul', 'mon_Jun','mon_Mar', 'mon_May', 'mon_Nov', 'mon_Oct','mon_Sep']])\n",
        "RMSE_addit = RMSE(test['Passengers'],addit_pred)"
      ]
    },
    {
      "cell_type": "markdown",
      "id": "0bc8854e",
      "metadata": {
        "id": "0bc8854e"
      },
      "source": [
        "### 5.5 Additive Quadratic model"
      ]
    },
    {
      "cell_type": "code",
      "execution_count": null,
      "id": "6f498cb0",
      "metadata": {
        "id": "6f498cb0"
      },
      "outputs": [],
      "source": [
        "addit_quad_model = smf.ols('Passengers ~ t + t_sqr+mon_Apr+mon_Aug+mon_Dec+mon_Feb+mon_Jan+ mon_Jul+ mon_Jun+mon_Mar+mon_May+mon_Nov+mon_Oct+mon_Sep', data= train).fit()\n",
        "addit_quad_pred = addit_quad_model.predict(test[[ 't','t_sqr','mon_Apr','mon_Aug', 'mon_Dec', 'mon_Feb', 'mon_Jan', 'mon_Jul', 'mon_Jun','mon_Mar', 'mon_May', 'mon_Nov', 'mon_Oct','mon_Sep']])\n",
        "RMSE_addit_quad = RMSE(test['Passengers'],addit_quad_pred)"
      ]
    },
    {
      "cell_type": "markdown",
      "id": "397fe04d",
      "metadata": {
        "id": "397fe04d"
      },
      "source": [
        "### 5.6 Multiplicative seasonality"
      ]
    },
    {
      "cell_type": "code",
      "execution_count": null,
      "id": "87fee7cc",
      "metadata": {
        "id": "87fee7cc"
      },
      "outputs": [],
      "source": [
        "multip_model = smf.ols('log_y ~ mon_Apr+mon_Aug+mon_Dec+mon_Feb+mon_Jan+ mon_Jul+ mon_Jun+mon_Mar+mon_May+mon_Nov+mon_Oct+mon_Sep', data= train).fit()\n",
        "multip_pred = multip_model.predict(test[[ 'mon_Apr','mon_Aug', 'mon_Dec', 'mon_Feb', 'mon_Jan', 'mon_Jul', 'mon_Jun','mon_Mar', 'mon_May', 'mon_Nov', 'mon_Oct','mon_Sep']])\n",
        "RMSE_multip = RMSE(test['Passengers'],multip_pred)"
      ]
    },
    {
      "cell_type": "markdown",
      "id": "a6bd7a80",
      "metadata": {
        "id": "a6bd7a80"
      },
      "source": [
        "### 5.7 Multiplicative additive seasonality"
      ]
    },
    {
      "cell_type": "code",
      "execution_count": null,
      "id": "7502b58e",
      "metadata": {
        "id": "7502b58e"
      },
      "outputs": [],
      "source": [
        "add_multip_model = smf.ols('log_y ~ t+mon_Apr+mon_Aug+mon_Dec+mon_Feb+mon_Jan+ mon_Jul+ mon_Jun+mon_Mar+mon_May+mon_Nov+mon_Oct+mon_Sep', data= train).fit()\n",
        "add_multip_pred = add_multip_model.predict(test[['t','mon_Apr','mon_Aug', 'mon_Dec', 'mon_Feb', 'mon_Jan', 'mon_Jul', 'mon_Jun','mon_Mar', 'mon_May', 'mon_Nov', 'mon_Oct','mon_Sep']])\n",
        "RMSE_add_multip = RMSE(test['Passengers'],add_multip_pred)"
      ]
    },
    {
      "cell_type": "markdown",
      "id": "ebf83801",
      "metadata": {
        "id": "ebf83801"
      },
      "source": [
        "### 5.8 RMSE comparison"
      ]
    },
    {
      "cell_type": "code",
      "execution_count": null,
      "id": "7864e76b",
      "metadata": {
        "id": "7864e76b",
        "outputId": "7c8a0953-d3c6-4577-c2b3-017fdecc9bf9"
      },
      "outputs": [
        {
          "data": {
            "text/html": [
              "<div>\n",
              "<style scoped>\n",
              "    .dataframe tbody tr th:only-of-type {\n",
              "        vertical-align: middle;\n",
              "    }\n",
              "\n",
              "    .dataframe tbody tr th {\n",
              "        vertical-align: top;\n",
              "    }\n",
              "\n",
              "    .dataframe thead th {\n",
              "        text-align: right;\n",
              "    }\n",
              "</style>\n",
              "<table border=\"1\" class=\"dataframe\">\n",
              "  <thead>\n",
              "    <tr style=\"text-align: right;\">\n",
              "      <th></th>\n",
              "      <th>Model</th>\n",
              "      <th>RMSE</th>\n",
              "    </tr>\n",
              "  </thead>\n",
              "  <tbody>\n",
              "    <tr>\n",
              "      <th>4</th>\n",
              "      <td>Additive-Quadratic</td>\n",
              "      <td>39.795561</td>\n",
              "    </tr>\n",
              "    <tr>\n",
              "      <th>0</th>\n",
              "      <td>Linear</td>\n",
              "      <td>56.023311</td>\n",
              "    </tr>\n",
              "    <tr>\n",
              "      <th>2</th>\n",
              "      <td>Quadratic</td>\n",
              "      <td>58.491135</td>\n",
              "    </tr>\n",
              "    <tr>\n",
              "      <th>3</th>\n",
              "      <td>Additive</td>\n",
              "      <td>131.178597</td>\n",
              "    </tr>\n",
              "    <tr>\n",
              "      <th>6</th>\n",
              "      <td>Multiplictive-additive</td>\n",
              "      <td>312.153783</td>\n",
              "    </tr>\n",
              "    <tr>\n",
              "      <th>1</th>\n",
              "      <td>Exponential</td>\n",
              "      <td>312.186051</td>\n",
              "    </tr>\n",
              "    <tr>\n",
              "      <th>5</th>\n",
              "      <td>Multiplicative</td>\n",
              "      <td>312.684037</td>\n",
              "    </tr>\n",
              "  </tbody>\n",
              "</table>\n",
              "</div>"
            ],
            "text/plain": [
              "                    Model        RMSE\n",
              "4      Additive-Quadratic   39.795561\n",
              "0                  Linear   56.023311\n",
              "2               Quadratic   58.491135\n",
              "3                Additive  131.178597\n",
              "6  Multiplictive-additive  312.153783\n",
              "1             Exponential  312.186051\n",
              "5          Multiplicative  312.684037"
            ]
          },
          "execution_count": 20,
          "metadata": {},
          "output_type": "execute_result"
        }
      ],
      "source": [
        "RMSE_data1 = pd.DataFrame(data={'Model': ['Linear','Exponential','Quadratic','Additive','Additive-Quadratic','Multiplicative','Multiplictive-additive'],\n",
        "                              'RMSE': [RMSE_lin, RMSE_expo, RMSE_quad, RMSE_addit, RMSE_addit_quad, RMSE_multip, RMSE_add_multip]})\n",
        "RMSE_data1.sort_values(by='RMSE',ascending=True)"
      ]
    },
    {
      "cell_type": "markdown",
      "id": "85fac383",
      "metadata": {
        "id": "85fac383"
      },
      "source": [
        "#### ======================================================================================================="
      ]
    },
    {
      "cell_type": "markdown",
      "id": "bfceb575",
      "metadata": {
        "id": "bfceb575"
      },
      "source": [
        "## 6. Data driven Forecasting with exponential smoothing techniques"
      ]
    },
    {
      "cell_type": "code",
      "execution_count": null,
      "id": "09f48cf2",
      "metadata": {
        "id": "09f48cf2"
      },
      "outputs": [],
      "source": [
        "df2 = df.copy()\n",
        "\n",
        "train = df2.head(75)\n",
        "test = df2.tail(21)"
      ]
    },
    {
      "cell_type": "code",
      "execution_count": null,
      "id": "6a33da41",
      "metadata": {
        "id": "6a33da41",
        "outputId": "580f3ba8-e8ec-491a-a183-1cf2e4cd3755"
      },
      "outputs": [
        {
          "data": {
            "image/png": "[encoded data removed]",
            "text/plain": [
              "<Figure size 432x288 with 1 Axes>"
            ]
          },
          "metadata": {
            "needs_background": "light"
          },
          "output_type": "display_data"
        },
        {
          "data": {
            "image/png": "[encoded data removed]",
            "text/plain": [
              "<Figure size 432x288 with 1 Axes>"
            ]
          },
          "metadata": {
            "needs_background": "light"
          },
          "output_type": "display_data"
        }
      ],
      "source": [
        "plot_acf(x=df['Passengers'], ax=None, lags=12)\n",
        "plot_pacf(x=df['Passengers'], ax=None, lags=12)\n",
        "plt.show()"
      ]
    },
    {
      "cell_type": "markdown",
      "id": "f75eff3e",
      "metadata": {
        "id": "f75eff3e"
      },
      "source": [
        "### 6.1 Seasonal decomposition"
      ]
    },
    {
      "cell_type": "code",
      "execution_count": null,
      "id": "19f57f96",
      "metadata": {
        "scrolled": true,
        "id": "19f57f96",
        "outputId": "39092e53-6a15-4155-b1d9-3deeac08fcb9"
      },
      "outputs": [
        {
          "data": {
            "image/png": "[encoded data removed]",
            "text/plain": [
              "<Figure size 432x288 with 4 Axes>"
            ]
          },
          "metadata": {
            "needs_background": "light"
          },
          "output_type": "display_data"
        }
      ],
      "source": [
        "sd_plot = seasonal_decompose(x= df['Passengers'], period=12,model='multiplicative')\n",
        "sd_plot.plot()\n",
        "plt.show()"
      ]
    },
    {
      "cell_type": "markdown",
      "id": "3e5d4c83",
      "metadata": {
        "id": "3e5d4c83"
      },
      "source": [
        "### 6.2 Simple Exponential Method"
      ]
    },
    {
      "cell_type": "code",
      "execution_count": null,
      "id": "d8b8bc6c",
      "metadata": {
        "id": "d8b8bc6c"
      },
      "outputs": [],
      "source": [
        "simple_expo = SimpleExpSmoothing(df2['Passengers']).fit(smoothing_level=0.9)\n",
        "simple_pred = simple_expo.predict(start=test.index[0], end=test.index[-1])\n",
        "RMSE_simple = RMSE(test['Passengers'], simple_pred)"
      ]
    },
    {
      "cell_type": "markdown",
      "id": "93ec325a",
      "metadata": {
        "id": "93ec325a"
      },
      "source": [
        "### 6.3 Holts Method"
      ]
    },
    {
      "cell_type": "code",
      "execution_count": null,
      "id": "865aa1fb",
      "metadata": {
        "id": "865aa1fb"
      },
      "outputs": [],
      "source": [
        "holts_expo = Holt(df2['Passengers']).fit(smoothing_level=0.9, smoothing_trend=0.01)\n",
        "holts_pred = holts_expo.predict(start=test.index[0], end=test.index[-1])\n",
        "RMSE_holts = RMSE(test['Passengers'], holts_pred)"
      ]
    },
    {
      "cell_type": "markdown",
      "id": "3f17023d",
      "metadata": {
        "id": "3f17023d"
      },
      "source": [
        "### 6.4 Holts Winter Method with additive trend and additive seasonality"
      ]
    },
    {
      "cell_type": "code",
      "execution_count": null,
      "id": "6a4edfdf",
      "metadata": {
        "id": "6a4edfdf"
      },
      "outputs": [],
      "source": [
        "holts_winter_add_add = ExponentialSmoothing(df2['Passengers'],trend='add',seasonal='add', seasonal_periods=12).fit(smoothing_trend=0.8)\n",
        "holts_winter_add_add_pred = holts_winter_add_add.predict(start=test.index[0], end=test.index[-1])\n",
        "RMSE_holts_winter_add_add = RMSE(test['Passengers'], holts_winter_add_add_pred)"
      ]
    },
    {
      "cell_type": "markdown",
      "id": "2283db03",
      "metadata": {
        "id": "2283db03"
      },
      "source": [
        "### 6.5 Holts Winter Method with multiplicative trend and additive seasonality"
      ]
    },
    {
      "cell_type": "code",
      "execution_count": null,
      "id": "63d5eb61",
      "metadata": {
        "id": "63d5eb61"
      },
      "outputs": [],
      "source": [
        "holts_winter_mul_add = ExponentialSmoothing(df2['Passengers'],trend='mul',seasonal='add', seasonal_periods=12).fit()\n",
        "holts_winter_mul_add_pred = holts_winter_mul_add.predict(start=test.index[0], end=test.index[-1])\n",
        "RMSE_holts_winter_mul_add = RMSE(test['Passengers'], holts_winter_mul_add_pred)"
      ]
    },
    {
      "cell_type": "markdown",
      "id": "a290e76b",
      "metadata": {
        "id": "a290e76b"
      },
      "source": [
        "### 6.6 Holts Winter Method with multiplicative trend and multiplicative seasonality"
      ]
    },
    {
      "cell_type": "code",
      "execution_count": null,
      "id": "5b46aa13",
      "metadata": {
        "id": "5b46aa13"
      },
      "outputs": [],
      "source": [
        "holts_winter_mul_mul = ExponentialSmoothing(df2['Passengers'],trend='mul',seasonal='mul', seasonal_periods=12).fit()\n",
        "holts_winter_mul_mul_pred = holts_winter_mul_mul.predict(start=test.index[0], end=test.index[-1])\n",
        "RMSE_holts_winter_mul_mul = RMSE(test['Passengers'], holts_winter_mul_mul_pred)"
      ]
    },
    {
      "cell_type": "markdown",
      "id": "c516f5ae",
      "metadata": {
        "id": "c516f5ae"
      },
      "source": [
        "### 6.6 RMSE comparison"
      ]
    },
    {
      "cell_type": "code",
      "execution_count": null,
      "id": "a2a1f32f",
      "metadata": {
        "id": "a2a1f32f",
        "outputId": "acb08831-36f9-48d3-a791-ffc3a934e87a"
      },
      "outputs": [
        {
          "data": {
            "text/html": [
              "<div>\n",
              "<style scoped>\n",
              "    .dataframe tbody tr th:only-of-type {\n",
              "        vertical-align: middle;\n",
              "    }\n",
              "\n",
              "    .dataframe tbody tr th {\n",
              "        vertical-align: top;\n",
              "    }\n",
              "\n",
              "    .dataframe thead th {\n",
              "        text-align: right;\n",
              "    }\n",
              "</style>\n",
              "<table border=\"1\" class=\"dataframe\">\n",
              "  <thead>\n",
              "    <tr style=\"text-align: right;\">\n",
              "      <th></th>\n",
              "      <th>Model</th>\n",
              "      <th>RMSE</th>\n",
              "    </tr>\n",
              "  </thead>\n",
              "  <tbody>\n",
              "    <tr>\n",
              "      <th>4</th>\n",
              "      <td>Holts Winter Method with multiplicative trend ...</td>\n",
              "      <td>6.159684</td>\n",
              "    </tr>\n",
              "    <tr>\n",
              "      <th>2</th>\n",
              "      <td>Holts Winter Method with additive trend and ad...</td>\n",
              "      <td>8.963988</td>\n",
              "    </tr>\n",
              "    <tr>\n",
              "      <th>3</th>\n",
              "      <td>Holts Winter Method with multiplicative trend ...</td>\n",
              "      <td>10.670108</td>\n",
              "    </tr>\n",
              "    <tr>\n",
              "      <th>0</th>\n",
              "      <td>Simple exponential method</td>\n",
              "      <td>35.264618</td>\n",
              "    </tr>\n",
              "    <tr>\n",
              "      <th>1</th>\n",
              "      <td>Holts method</td>\n",
              "      <td>35.390574</td>\n",
              "    </tr>\n",
              "  </tbody>\n",
              "</table>\n",
              "</div>"
            ],
            "text/plain": [
              "                                               Model       RMSE\n",
              "4  Holts Winter Method with multiplicative trend ...   6.159684\n",
              "2  Holts Winter Method with additive trend and ad...   8.963988\n",
              "3  Holts Winter Method with multiplicative trend ...  10.670108\n",
              "0                          Simple exponential method  35.264618\n",
              "1                                       Holts method  35.390574"
            ]
          },
          "execution_count": 29,
          "metadata": {},
          "output_type": "execute_result"
        }
      ],
      "source": [
        "RMSE_data2 = pd.DataFrame(data= {'Model': ['Simple exponential method','Holts method', 'Holts Winter Method with additive trend and additive seasonality','Holts Winter Method with multiplicative trend and additive seasonality','Holts Winter Method with multiplicative trend and multiplicative seasonality'],\n",
        "                                'RMSE' : [RMSE_simple, RMSE_holts, RMSE_holts_winter_add_add, RMSE_holts_winter_mul_add, RMSE_holts_winter_mul_mul]})\n",
        "RMSE_data2.sort_values(by='RMSE')"
      ]
    },
    {
      "cell_type": "markdown",
      "id": "79cc1f22",
      "metadata": {
        "id": "79cc1f22"
      },
      "source": [
        "#### ========================================================================================================"
      ]
    },
    {
      "cell_type": "markdown",
      "id": "b6f19168",
      "metadata": {
        "id": "b6f19168"
      },
      "source": [
        "## 7. RMSE comparison for all"
      ]
    },
    {
      "cell_type": "code",
      "execution_count": null,
      "id": "4fc8d754",
      "metadata": {
        "id": "4fc8d754",
        "outputId": "b12d7d3a-e4e2-4085-a847-7cdcdc04e76e"
      },
      "outputs": [
        {
          "data": {
            "text/html": [
              "<div>\n",
              "<style scoped>\n",
              "    .dataframe tbody tr th:only-of-type {\n",
              "        vertical-align: middle;\n",
              "    }\n",
              "\n",
              "    .dataframe tbody tr th {\n",
              "        vertical-align: top;\n",
              "    }\n",
              "\n",
              "    .dataframe thead th {\n",
              "        text-align: right;\n",
              "    }\n",
              "</style>\n",
              "<table border=\"1\" class=\"dataframe\">\n",
              "  <thead>\n",
              "    <tr style=\"text-align: right;\">\n",
              "      <th></th>\n",
              "      <th>Model</th>\n",
              "      <th>RMSE</th>\n",
              "    </tr>\n",
              "  </thead>\n",
              "  <tbody>\n",
              "    <tr>\n",
              "      <th>4</th>\n",
              "      <td>Holts Winter Method with multiplicative trend and multiplicative seasonality</td>\n",
              "      <td>6.159684</td>\n",
              "    </tr>\n",
              "    <tr>\n",
              "      <th>2</th>\n",
              "      <td>Holts Winter Method with additive trend and additive seasonality</td>\n",
              "      <td>8.963988</td>\n",
              "    </tr>\n",
              "    <tr>\n",
              "      <th>3</th>\n",
              "      <td>Holts Winter Method with multiplicative trend and additive seasonality</td>\n",
              "      <td>10.670108</td>\n",
              "    </tr>\n",
              "    <tr>\n",
              "      <th>0</th>\n",
              "      <td>Simple exponential method</td>\n",
              "      <td>35.264618</td>\n",
              "    </tr>\n",
              "    <tr>\n",
              "      <th>1</th>\n",
              "      <td>Holts method</td>\n",
              "      <td>35.390574</td>\n",
              "    </tr>\n",
              "    <tr>\n",
              "      <th>4</th>\n",
              "      <td>Additive-Quadratic</td>\n",
              "      <td>39.795561</td>\n",
              "    </tr>\n",
              "    <tr>\n",
              "      <th>0</th>\n",
              "      <td>Linear</td>\n",
              "      <td>56.023311</td>\n",
              "    </tr>\n",
              "    <tr>\n",
              "      <th>2</th>\n",
              "      <td>Quadratic</td>\n",
              "      <td>58.491135</td>\n",
              "    </tr>\n",
              "    <tr>\n",
              "      <th>3</th>\n",
              "      <td>Additive</td>\n",
              "      <td>131.178597</td>\n",
              "    </tr>\n",
              "    <tr>\n",
              "      <th>6</th>\n",
              "      <td>Multiplictive-additive</td>\n",
              "      <td>312.153783</td>\n",
              "    </tr>\n",
              "    <tr>\n",
              "      <th>1</th>\n",
              "      <td>Exponential</td>\n",
              "      <td>312.186051</td>\n",
              "    </tr>\n",
              "    <tr>\n",
              "      <th>5</th>\n",
              "      <td>Multiplicative</td>\n",
              "      <td>312.684037</td>\n",
              "    </tr>\n",
              "  </tbody>\n",
              "</table>\n",
              "</div>"
            ],
            "text/plain": [
              "                                                                          Model  \\\n",
              "4  Holts Winter Method with multiplicative trend and multiplicative seasonality   \n",
              "2              Holts Winter Method with additive trend and additive seasonality   \n",
              "3        Holts Winter Method with multiplicative trend and additive seasonality   \n",
              "0                                                     Simple exponential method   \n",
              "1                                                                  Holts method   \n",
              "4                                                            Additive-Quadratic   \n",
              "0                                                                        Linear   \n",
              "2                                                                     Quadratic   \n",
              "3                                                                      Additive   \n",
              "6                                                        Multiplictive-additive   \n",
              "1                                                                   Exponential   \n",
              "5                                                                Multiplicative   \n",
              "\n",
              "         RMSE  \n",
              "4    6.159684  \n",
              "2    8.963988  \n",
              "3   10.670108  \n",
              "0   35.264618  \n",
              "1   35.390574  \n",
              "4   39.795561  \n",
              "0   56.023311  \n",
              "2   58.491135  \n",
              "3  131.178597  \n",
              "6  312.153783  \n",
              "1  312.186051  \n",
              "5  312.684037  "
            ]
          },
          "execution_count": 30,
          "metadata": {},
          "output_type": "execute_result"
        }
      ],
      "source": [
        "RMSE_all = pd.concat([RMSE_data1,RMSE_data2])\n",
        "pd.set_option('max_colwidth', 80)\n",
        "RMSE_all.sort_values(by='RMSE')"
      ]
    },
    {
      "cell_type": "markdown",
      "id": "a084524a",
      "metadata": {
        "id": "a084524a"
      },
      "source": [
        "#### ========================================================================================================"
      ]
    },
    {
      "cell_type": "code",
      "execution_count": null,
      "id": "a327cd15",
      "metadata": {
        "id": "a327cd15",
        "outputId": "bbff8c8f-7eb7-46c0-a1b7-c040f7cfcab4"
      },
      "outputs": [
        {
          "data": {
            "image/png": "[encoded data removed]",
            "text/plain": [
              "<Figure size 864x576 with 1 Axes>"
            ]
          },
          "metadata": {
            "needs_background": "light"
          },
          "output_type": "display_data"
        }
      ],
      "source": [
        "# Plot of Actual values and Predicted values\n",
        "plt.plot(df.Passengers, color='b', label='Actual Passangers')\n",
        "plt.plot(holts_winter_mul_add_pred, color='m', label='Predicted Passangers')\n",
        "plt.plot(holts_winter_add_add_pred, color='r', label='Predicted Passangers')\n",
        "\n",
        "# Added titles and adjust dimensions\n",
        "plt.title('Actual Passengers and Predicted Passengers')\n",
        "plt.legend()\n",
        "plt.rcParams['figure.figsize'] = (12,8) \n",
        "\n",
        "plt.show()"
      ]
    },
    {
      "cell_type": "code",
      "execution_count": null,
      "id": "38c6ed49",
      "metadata": {
        "id": "38c6ed49"
      },
      "outputs": [],
      "source": []
    },
    {
      "cell_type": "code",
      "execution_count": null,
      "id": "cf768998",
      "metadata": {
        "id": "cf768998"
      },
      "outputs": [],
      "source": []
    }
  ],
  "metadata": {
    "kernelspec": {
      "display_name": "Python 3 (ipykernel)",
      "language": "python",
      "name": "python3"
    },
    "language_info": {
      "codemirror_mode": {
        "name": "ipython",
        "version": 3
      },
      "file_extension": ".py",
      "mimetype": "text/x-python",
      "name": "python",
      "nbconvert_exporter": "python",
      "pygments_lexer": "ipython3",
      "version": "3.9.7"
    },
    "colab": {
      "provenance": [],
      "include_colab_link": true
    }
  },
  "nbformat": 4,
  "nbformat_minor": 5
}